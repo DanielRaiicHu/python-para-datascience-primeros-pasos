{
  "nbformat": 4,
  "nbformat_minor": 0,
  "metadata": {
    "colab": {
      "provenance": [],
      "include_colab_link": true
    },
    "kernelspec": {
      "name": "python3",
      "display_name": "Python 3"
    },
    "language_info": {
      "name": "python"
    }
  },
  "cells": [
    {
      "cell_type": "markdown",
      "metadata": {
        "id": "view-in-github",
        "colab_type": "text"
      },
      "source": [
        "<a href=\"https://colab.research.google.com/github/DanielRaiicHu/python-para-datascience-primeros-pasos/blob/main/Python_Data_Science.ipynb\" target=\"_parent\"><img src=\"https://colab.research.google.com/assets/colab-badge.svg\" alt=\"Open In Colab\"/></a>"
      ]
    },
    {
      "cell_type": "markdown",
      "source": [
        "# Python para Data Science\n",
        "\n",
        "Notebook para el curso de Python para Data Science publicado en la plataforma de [Alura Latam](https://www.aluracursos.com/)"
      ],
      "metadata": {
        "id": "lQx6Mmv0OJyT"
      }
    },
    {
      "cell_type": "markdown",
      "source": [
        "# Introducción a Python\n",
        "¡Vamos a conocer Python, nuestro ambiente de estudio, y también generaremos nuestro primer código en este lenguaje!"
      ],
      "metadata": {
        "id": "7SiB6JIpYKmY"
      }
    },
    {
      "cell_type": "markdown",
      "source": [
        "## Google Colaboratory\n",
        "\n",
        "Ya aprendimos qué es [Python](https://www.python.org/) y ahora aprenderemos a usar nuestra herramienta de ejecución [Google Colaboratory](https://colab.research.google.com/) para programar en un notebook interactivo.\n",
        "\n",
        "Vamos a probar algunas funciones de este ambiente."
      ],
      "metadata": {
        "id": "Yugfb3fCOYY9"
      }
    },
    {
      "cell_type": "markdown",
      "source": [
        " **`>>> Usa esta celda para mover <<<`**"
      ],
      "metadata": {
        "id": "2iUHQsJasJAk"
      }
    },
    {
      "cell_type": "code",
      "source": [],
      "metadata": {
        "id": "o7jrX_iKhdkU"
      },
      "execution_count": null,
      "outputs": []
    },
    {
      "cell_type": "markdown",
      "source": [
        "## ¡Hola mundo!\n",
        "\n",
        "Vamos a conocer un poco más de cerca nuestro notebook. Para ello ejecutaremos nuestro primer comando en Python: [`print()`](https://docs.python.org/3/library/functions.html#print)"
      ],
      "metadata": {
        "id": "aLSFP2V7XTfe"
      }
    },
    {
      "cell_type": "code",
      "source": [
        "print(\"Hola mundo\")"
      ],
      "metadata": {
        "id": "0qZX8_ZQBYyk",
        "colab": {
          "base_uri": "https://localhost:8080/"
        },
        "outputId": "903f0006-b9b5-49f1-b635-ff2d4fbd00f9"
      },
      "execution_count": null,
      "outputs": [
        {
          "output_type": "stream",
          "name": "stdout",
          "text": [
            "Hola mundo\n"
          ]
        }
      ]
    },
    {
      "cell_type": "code",
      "source": [
        "print(\"hola mi mundo\")"
      ],
      "metadata": {
        "id": "GLMzF_AKBY7a",
        "colab": {
          "base_uri": "https://localhost:8080/"
        },
        "outputId": "0a042871-c2a8-4beb-8e7c-0a13fe768a6f"
      },
      "execution_count": null,
      "outputs": [
        {
          "output_type": "stream",
          "name": "stdout",
          "text": [
            "hola mi mundo\n"
          ]
        }
      ]
    },
    {
      "cell_type": "markdown",
      "source": [
        "# Manipulando los datos\n",
        "\n",
        "Vamos a aprender sobre las variables en Python, cómo declararlas y utilizarlas además de conocer otros comandos de este lenguaje. :D"
      ],
      "metadata": {
        "id": "iP8uWQmFYFRs"
      }
    },
    {
      "cell_type": "markdown",
      "source": [
        "## Variables\n",
        "\n",
        "En Data Science trabajamos con varios tipos de datos e informaciones, entonces es esencial saber cómo trabajar con las variables."
      ],
      "metadata": {
        "id": "sLNVmnTbag1Z"
      }
    },
    {
      "cell_type": "markdown",
      "source": [
        "Las variables en Python se crean cuando atribuimos un valor a ella.\n",
        "\n",
        "Para esto, colocamos el nombre de la variable, el signo de igual (`=`) y el valor que queremos atribuirle."
      ],
      "metadata": {
        "id": "lsCY0wahAbf6"
      }
    },
    {
      "cell_type": "code",
      "source": [
        "char1 = \"Daniel\"\n",
        "var1 = 35\n",
        "print(char1,var1)"
      ],
      "metadata": {
        "id": "vsHh5buZADND",
        "colab": {
          "base_uri": "https://localhost:8080/"
        },
        "outputId": "b071e39f-d93c-4ffd-ac5f-68e5620bb205"
      },
      "execution_count": null,
      "outputs": [
        {
          "output_type": "stream",
          "name": "stdout",
          "text": [
            "Daniel 35\n"
          ]
        }
      ]
    },
    {
      "cell_type": "code",
      "source": [
        "char2 = \"Daniel\"\n",
        "var2 = 35\n",
        "print(f\"Mi nombre es {char2} y tengo {var2} años de edad\")"
      ],
      "metadata": {
        "id": "sivPtqSjADQV",
        "colab": {
          "base_uri": "https://localhost:8080/"
        },
        "outputId": "de2641c4-2fe9-499a-9fc2-86c4c2e0ab79"
      },
      "execution_count": null,
      "outputs": [
        {
          "output_type": "stream",
          "name": "stdout",
          "text": [
            "Mi nombre es Daniel y tengo 35 años de edad\n"
          ]
        }
      ]
    },
    {
      "cell_type": "code",
      "source": [],
      "metadata": {
        "id": "JC8jO47wADlm"
      },
      "execution_count": null,
      "outputs": []
    },
    {
      "cell_type": "markdown",
      "source": [
        "Existen algunos tipos de nomes que **no** podemos definir para las variables:\n",
        "\n",
        "- **Nombres que comiencen con números**\n",
        "  - Ejemplos: `10_notas`, `2_nombre_casa`, etc.\n",
        "- **Palabras separadas por espacio**\n",
        "  - Ejemplos: `Nombre escuela`, `notas estudiantes`, etc.\n",
        "- **Nombres de funciones de Python**\n",
        "  - Ejemplos: `print`, `type`, etc."
      ],
      "metadata": {
        "id": "om2N0jHKAzwL"
      }
    },
    {
      "cell_type": "markdown",
      "source": [
        "> Las letras mayúsculas y minúsculas generarán diferentes variables. La variable `edad` es diferente de `Edad` que a su vez es diferente de `EDAD`:\n",
        "``` Python\n",
        "edad = 1\n",
        "Edad = 2\n",
        "EDAD = 3\n",
        "_edad = 4\n",
        "_edad_ = 5\n",
        "print(edad, Edad, EDAD, _edad, _edad_)\n",
        "1 2 3 4 5\n",
        "```"
      ],
      "metadata": {
        "id": "A19vY2GVMujB"
      }
    },
    {
      "cell_type": "markdown",
      "source": [
        "## Tipos de variables\n",
        "\n",
        "Cada variable contiene una clase específica con respecto al tipo de objeto al cual esta hace referencia. Estas clases serán diferentes de acuerdo con el tipo de dato que le sea atribuido a una variable.\n",
        "\n",
        "Para conocer la clase de cada elemento usamos la función [`type()`](https://docs.python.org/3/library/functions.html#type)"
      ],
      "metadata": {
        "id": "UqhzuBhBHsps"
      }
    },
    {
      "cell_type": "code",
      "source": [
        "dd = 8\n",
        "mm = \"noviembre\"\n",
        "aaaa = 1989\n",
        "print(dd,mm,aaaa)"
      ],
      "metadata": {
        "id": "J5a9t73A_-PX",
        "colab": {
          "base_uri": "https://localhost:8080/"
        },
        "outputId": "1aa31b49-91d6-4588-aa15-c14915710f78"
      },
      "execution_count": null,
      "outputs": [
        {
          "output_type": "stream",
          "name": "stdout",
          "text": [
            "8 noviembre 1989\n"
          ]
        }
      ]
    },
    {
      "cell_type": "code",
      "source": [
        "print(f\"Mi nombre es {char1}, tengo {var1} años de edad y nací el {dd} de {mm} de {aaaa}.\")"
      ],
      "metadata": {
        "id": "rqmO1ew-_-So",
        "colab": {
          "base_uri": "https://localhost:8080/"
        },
        "outputId": "ea1a2ed5-9fda-4ee3-9d28-71aded9484f2"
      },
      "execution_count": null,
      "outputs": [
        {
          "output_type": "stream",
          "name": "stdout",
          "text": [
            "Mi nombre es Daniel, tengo 35 años de edad y nací el 8 de noviembre de 1989.\n"
          ]
        }
      ]
    },
    {
      "cell_type": "code",
      "source": [
        "type(dd)"
      ],
      "metadata": {
        "id": "xkrPMkeY_-cP",
        "colab": {
          "base_uri": "https://localhost:8080/"
        },
        "outputId": "88f76d8f-8849-4283-bf4b-ec305b54bca1"
      },
      "execution_count": null,
      "outputs": [
        {
          "output_type": "execute_result",
          "data": {
            "text/plain": [
              "int"
            ]
          },
          "metadata": {},
          "execution_count": 82
        }
      ]
    },
    {
      "cell_type": "code",
      "source": [
        "type(mm)"
      ],
      "metadata": {
        "colab": {
          "base_uri": "https://localhost:8080/"
        },
        "id": "sEsLHFms5793",
        "outputId": "fb105279-5990-4850-ff67-4ab862c78a96"
      },
      "execution_count": null,
      "outputs": [
        {
          "output_type": "execute_result",
          "data": {
            "text/plain": [
              "str"
            ]
          },
          "metadata": {},
          "execution_count": 83
        }
      ]
    },
    {
      "cell_type": "code",
      "source": [
        "type(aaaa)"
      ],
      "metadata": {
        "colab": {
          "base_uri": "https://localhost:8080/"
        },
        "id": "5S3VNF6T6BXF",
        "outputId": "c60ed1e9-4c3f-44fc-f155-39622d67e7bc"
      },
      "execution_count": null,
      "outputs": [
        {
          "output_type": "execute_result",
          "data": {
            "text/plain": [
              "int"
            ]
          },
          "metadata": {},
          "execution_count": 84
        }
      ]
    },
    {
      "cell_type": "markdown",
      "source": [
        "En un conjunto de datos escolares podemos tener varios tipos de informaciones. Supongamos que tenemos acceso a la ficha de datos del alumno *Penélope Camacho*, cómo transformamos este nombre en variables de Python?\n",
        "\n",
        "#### Ficha:\n",
        "\n",
        "- Nombre: Penélope Camacho\n",
        "- Edad: 11 años\n",
        "- Promedio del semestre: 9,75\n",
        "- Situación de aprobación: Verdadera (aprobado)"
      ],
      "metadata": {
        "id": "O-FxDumfWu0C"
      }
    },
    {
      "cell_type": "code",
      "source": [
        "nombre_alumno = \"Penélope Camacho\"\n",
        "edad_alumno = 11\n",
        "media_alumno = 9.75\n",
        "aprobacion = True\n",
        "\n",
        "print(f\"El nombre del alumno es {nombre_alumno}, tiene {edad_alumno} años y su media es {media_alumno}.\")"
      ],
      "metadata": {
        "id": "FabQ7jQf_8Xt",
        "colab": {
          "base_uri": "https://localhost:8080/"
        },
        "outputId": "64e52886-4f86-4ecc-f1b4-788ca8e6340a"
      },
      "execution_count": null,
      "outputs": [
        {
          "output_type": "stream",
          "name": "stdout",
          "text": [
            "El nombre del alumno es Penélope Camacho, tiene 11 años y su media es 9.75.\n"
          ]
        }
      ]
    },
    {
      "cell_type": "code",
      "source": [],
      "metadata": {
        "id": "IZLQnZUj_8bd"
      },
      "execution_count": null,
      "outputs": []
    },
    {
      "cell_type": "markdown",
      "source": [
        "## Variables numéricas\n",
        "\n",
        "Entre los tipos de datos numéricos vamos a enfocarnos en los tipos `entero` y `float`."
      ],
      "metadata": {
        "id": "KFq_8Sxf-OG0"
      }
    },
    {
      "cell_type": "markdown",
      "source": [
        "Tenemos una tabla de información sobre los diversos cargos, cantidad de personas empleadas y el salario correspondiente:\n",
        "\n",
        "|Cargo | Cantidad | Salario|\n",
        "|---|---|---|\n",
        "|Vigilante | 5 | 300 |\n",
        "|Docente | 16| 500|\n",
        "|Coordinador| 2 |600|\n",
        "\n",
        "Necesitamos trabajar con estos datos para obtener:\n",
        "\n",
        "- La cantidad total de empleados;\n",
        "- La diferencia entre el salario más bajo y más alto; y\n",
        "- El promedio ponderado de los salarios de los empleados de la escuela."
      ],
      "metadata": {
        "id": "8_HYUbkVYdQY"
      }
    },
    {
      "cell_type": "code",
      "source": [],
      "metadata": {
        "id": "F_X-wxdm_5Ys"
      },
      "execution_count": null,
      "outputs": []
    },
    {
      "cell_type": "code",
      "source": [],
      "metadata": {
        "id": "gKmBbhII_5b9"
      },
      "execution_count": null,
      "outputs": []
    },
    {
      "cell_type": "code",
      "source": [],
      "metadata": {
        "id": "fIugsxNy_53j"
      },
      "execution_count": null,
      "outputs": []
    },
    {
      "cell_type": "markdown",
      "source": [
        "## Strings"
      ],
      "metadata": {
        "id": "yQy7b0ZWoD-P"
      }
    },
    {
      "cell_type": "markdown",
      "source": [
        "Strings hace referencia a un conjunto de caracteres formando un texto.\n",
        "\n",
        "Podemos crear Strings cuando atribuimos un dato a una variable entre comillas sencillas (`'`) o comillas dobles (`\"`)."
      ],
      "metadata": {
        "id": "vlo2-DXusv3s"
      }
    },
    {
      "cell_type": "code",
      "source": [
        "frase = \"Hola gente de Alura Latam\"\n",
        "print(frase)"
      ],
      "metadata": {
        "id": "ityEWqvh_2wK",
        "outputId": "9d7738a4-7b73-4695-a929-33f99ac31fd0",
        "colab": {
          "base_uri": "https://localhost:8080/"
        }
      },
      "execution_count": null,
      "outputs": [
        {
          "output_type": "stream",
          "name": "stdout",
          "text": [
            "Hola gente de Alura Latam\n"
          ]
        }
      ]
    },
    {
      "cell_type": "code",
      "source": [
        "frase = str(input(\"Ingrese una frase: \"))\n",
        "print(frase)"
      ],
      "metadata": {
        "id": "HmyIxRc7I_fb",
        "outputId": "ae102da6-87aa-40d3-88a7-e22880cd9dbf",
        "colab": {
          "base_uri": "https://localhost:8080/"
        }
      },
      "execution_count": null,
      "outputs": [
        {
          "output_type": "stream",
          "name": "stdout",
          "text": [
            "Ingrese una frase: hola mundo\n",
            "hola mundo\n"
          ]
        },
        {
          "output_type": "execute_result",
          "data": {
            "text/plain": [
              "str"
            ]
          },
          "metadata": {},
          "execution_count": 20
        }
      ]
    },
    {
      "cell_type": "code",
      "source": [
        "frase = str(input(\"Ingrese una frase: \"))\n",
        "print(frase.upper())"
      ],
      "metadata": {
        "id": "MzGjVK-qJfWT",
        "outputId": "ff0a4401-f781-4ea6-fa8b-3d1b3c3f1329",
        "colab": {
          "base_uri": "https://localhost:8080/"
        }
      },
      "execution_count": null,
      "outputs": [
        {
          "output_type": "stream",
          "name": "stdout",
          "text": [
            "Ingrese una frase: hola mundo\n",
            "HOLA MUNDO\n"
          ]
        }
      ]
    },
    {
      "cell_type": "code",
      "source": [
        "frase = str(input(\"Ingrese una frase: \"))\n",
        "print(frase.lower())"
      ],
      "metadata": {
        "id": "-qgfb5lsJ0kL",
        "outputId": "f5d58887-2e6d-4e3a-d3b3-32bedf25959f",
        "colab": {
          "base_uri": "https://localhost:8080/"
        }
      },
      "execution_count": null,
      "outputs": [
        {
          "output_type": "stream",
          "name": "stdout",
          "text": [
            "Ingrese una frase: Hola Mundo\n",
            "hola mundo\n"
          ]
        }
      ]
    },
    {
      "cell_type": "code",
      "source": [
        "frase = \" Hola gente de Alura Latam     \"\n",
        "print(frase.strip())"
      ],
      "metadata": {
        "id": "VTFoY3i8KKpU",
        "outputId": "e7a8bbf9-b301-4bb8-e7b8-f32d944fd9f7",
        "colab": {
          "base_uri": "https://localhost:8080/"
        }
      },
      "execution_count": null,
      "outputs": [
        {
          "output_type": "stream",
          "name": "stdout",
          "text": [
            "Hola gente de Alura Latam\n"
          ]
        }
      ]
    },
    {
      "cell_type": "code",
      "source": [
        "frase = str(input(\"Ingrese una frase: \"))\n",
        "print(frase.strip())"
      ],
      "metadata": {
        "id": "eklGsGjEKlpD",
        "outputId": "403d8981-8add-4dc6-bea1-d2654dfafe58",
        "colab": {
          "base_uri": "https://localhost:8080/"
        }
      },
      "execution_count": null,
      "outputs": [
        {
          "output_type": "stream",
          "name": "stdout",
          "text": [
            "Ingrese una frase:       Hola Mundo de Alura Latam       \n",
            "Hola Mundo de Alura Latam\n"
          ]
        }
      ]
    },
    {
      "cell_type": "code",
      "source": [
        "frase = str(input(\"Ingrese una frase: \"))\n",
        "print(frase.strip().lower())"
      ],
      "metadata": {
        "id": "eOtdQ_xJLJV0",
        "outputId": "a6d6524e-c22b-4065-c8db-ced0e65e7af4",
        "colab": {
          "base_uri": "https://localhost:8080/"
        }
      },
      "execution_count": null,
      "outputs": [
        {
          "output_type": "stream",
          "name": "stdout",
          "text": [
            "Ingrese una frase:      HoLA MunDO      \n",
            "hola mundo\n"
          ]
        }
      ]
    },
    {
      "cell_type": "code",
      "source": [
        "frase = str(input(\"Ingrese una frase: \"))\n",
        "print(frase.replace(\"e\",\"f\"))"
      ],
      "metadata": {
        "id": "kSnBld2rLmED",
        "outputId": "35346bd8-5931-41e8-d575-5118b321b0a8",
        "colab": {
          "base_uri": "https://localhost:8080/"
        }
      },
      "execution_count": null,
      "outputs": [
        {
          "output_type": "stream",
          "name": "stdout",
          "text": [
            "Ingrese una frase: ene tene tu\n",
            "fnf tfnf tu\n"
          ]
        }
      ]
    },
    {
      "cell_type": "code",
      "source": [
        "frase = str(input(\"Ingrese una frase: \"))\n",
        "print(frase.replace(\"a\",\"@\"))"
      ],
      "metadata": {
        "id": "UyJALQvSM2Jr",
        "outputId": "67123732-367f-4029-d1eb-1dbdc339d975",
        "colab": {
          "base_uri": "https://localhost:8080/"
        }
      },
      "execution_count": null,
      "outputs": [
        {
          "output_type": "stream",
          "name": "stdout",
          "text": [
            "Ingrese una frase: La alumna matea\n",
            "L@ @lumn@ m@te@\n"
          ]
        }
      ]
    },
    {
      "cell_type": "code",
      "source": [
        "frase = str(input(\"Ingrese una frase: \"))\n",
        "print(frase.replace(\"s\",\"$\"))"
      ],
      "metadata": {
        "id": "2mxk4gzQNRFk",
        "outputId": "3256d5b6-9765-4c81-85fd-b051eb7f522e",
        "colab": {
          "base_uri": "https://localhost:8080/"
        }
      },
      "execution_count": null,
      "outputs": [
        {
          "output_type": "stream",
          "name": "stdout",
          "text": [
            "Ingrese una frase: sapo sapito\n",
            "$apo $apito\n"
          ]
        }
      ]
    },
    {
      "cell_type": "markdown",
      "source": [
        "Las variables textuales son objetos que poseen métodos que nos ayudan a formatear strings. Los métodos los podemos ejecutar al definir un objeto de acuerdo con la siguiente estructura:\n",
        "\n",
        "```\n",
        "objeto.metodo()\n",
        "```\n",
        "\n",
        "Existen métodos que no necesitan los `()`, siempre es una buena práctica verificar la documentación para cada caso."
      ],
      "metadata": {
        "id": "2e9UD_CCxqz_"
      }
    },
    {
      "cell_type": "markdown",
      "source": [
        "---\n",
        "**Situación:**\n",
        "\n",
        "Recibimos una variable con el nombre de una profesora de la escuela para añadirla a los registros. Sin embargo, necesitamos darle un tratamiento a este texto antes de insertarlo al sistema."
      ],
      "metadata": {
        "id": "p6aPmMGP4tf9"
      }
    },
    {
      "cell_type": "code",
      "source": [
        "texto = '  Micaela de los Sanyos '"
      ],
      "metadata": {
        "id": "icDWtYTjBO0n"
      },
      "execution_count": null,
      "outputs": []
    },
    {
      "cell_type": "markdown",
      "source": [
        "El objetivo final es que el nombre aparezca de la siguiente forma:\n",
        "\n",
        "```\n",
        "'MICAELA DE LOS SANTOS'\n",
        "```"
      ],
      "metadata": {
        "id": "Dg2ZXSZOGzjC"
      }
    },
    {
      "cell_type": "markdown",
      "source": [
        "### [`str.upper()` ](https://docs.python.org/3/library/stdtypes.html#str.upper)\n",
        "Convierte una string a mayúsculas."
      ],
      "metadata": {
        "id": "iVTAD8q702eN"
      }
    },
    {
      "cell_type": "code",
      "source": [],
      "metadata": {
        "id": "wMVshJrY_ZXh"
      },
      "execution_count": null,
      "outputs": []
    },
    {
      "cell_type": "markdown",
      "source": [
        "### [`str.lower()`](https://docs.python.org/3/library/stdtypes.html#str.lower)\n",
        "Convierte una string a minúsculas."
      ],
      "metadata": {
        "id": "hbDSBtMV1TpG"
      }
    },
    {
      "cell_type": "code",
      "source": [],
      "metadata": {
        "id": "px3yEeNH_YK4"
      },
      "execution_count": null,
      "outputs": []
    },
    {
      "cell_type": "markdown",
      "source": [
        "### [`str.strip()`](https://docs.python.org/3/library/stdtypes.html#str.strip)\n",
        "Elimina los espacios en blanco al inicio y al final de una string."
      ],
      "metadata": {
        "id": "kz47eWM11gii"
      }
    },
    {
      "cell_type": "code",
      "source": [],
      "metadata": {
        "id": "76dLgNa4_XAe"
      },
      "execution_count": null,
      "outputs": []
    },
    {
      "cell_type": "markdown",
      "source": [
        "### [`str.replace(antiguo, nuevo)`](https://docs.python.org/3/library/stdtypes.html#str.replace)\n",
        "\n",
        "Sustituye todas las ocurrencias del texto \"antiguo\" en la string por el  \"nuevo\"."
      ],
      "metadata": {
        "id": "m6notiyS1SCV"
      }
    },
    {
      "cell_type": "code",
      "source": [],
      "metadata": {
        "id": "PNXAixtE_V6R"
      },
      "execution_count": null,
      "outputs": []
    },
    {
      "cell_type": "markdown",
      "source": [
        "### Observaciones\n",
        "\n",
        "1. Los métodos devuelven una **tranformación**, no son ejecutados directamente sobre la variable donde está almacenado el texto.\n",
        "\n",
        "2. Adicionalmente, podemos acumular la ejecución de los métodos."
      ],
      "metadata": {
        "id": "zukvEjhG2Rcn"
      }
    },
    {
      "cell_type": "code",
      "source": [],
      "metadata": {
        "id": "JjkBRklr_T5n"
      },
      "execution_count": null,
      "outputs": []
    },
    {
      "cell_type": "markdown",
      "source": [
        "Para que la transformación se pueda ejecutar debemos atribuir la salida de las transformaciones a las variables"
      ],
      "metadata": {
        "id": "1KbwfVut2h6I"
      }
    },
    {
      "cell_type": "code",
      "source": [],
      "metadata": {
        "id": "ocPP-Jaj_SJI"
      },
      "execution_count": null,
      "outputs": []
    },
    {
      "cell_type": "code",
      "source": [],
      "metadata": {
        "id": "m1RvLGZZ_SP3"
      },
      "execution_count": null,
      "outputs": []
    },
    {
      "cell_type": "markdown",
      "source": [
        "## Capturando datos\n",
        "\n",
        "En algunas aplicaciones necesitamos capturar los valores del usuario de nuestro proyecto. En python, logramos capturar los datos del usuario a través del comando [`input()`](https://docs.python.org/3/library/functions.html#input).\n",
        "\n",
        "Para ejecutar la captura debemos atribuir el resultado de esta función a una variable."
      ],
      "metadata": {
        "id": "0h9Fh5G9kHCa"
      }
    },
    {
      "cell_type": "code",
      "source": [
        "nombre = input(\"Escribe tu nombre: \")\n",
        "print(\"Hola %s\" %nombre)"
      ],
      "metadata": {
        "id": "zbH_9i3q_PdY",
        "colab": {
          "base_uri": "https://localhost:8080/"
        },
        "outputId": "f4349615-6ff2-4fdb-8e2a-5b71777f5dd1"
      },
      "execution_count": null,
      "outputs": [
        {
          "output_type": "stream",
          "name": "stdout",
          "text": [
            "Escribe tu nombre: Daniel\n",
            "Hola Daniel\n"
          ]
        }
      ]
    },
    {
      "cell_type": "code",
      "source": [
        "nombre_usuario = str(input(\"Escribe tu nombre: \"))\n",
        "edad_usuario = int(input(\"Digita tu edad: \"))\n",
        "print(f\"Hola {nombre_usuario.capitalize()}, tienes {edad_usuario} años.\")"
      ],
      "metadata": {
        "id": "OBA9rqsLfoTm",
        "outputId": "44e48515-e6cc-4bc6-e665-47e5974f6b09",
        "colab": {
          "base_uri": "https://localhost:8080/"
        }
      },
      "execution_count": null,
      "outputs": [
        {
          "output_type": "stream",
          "name": "stdout",
          "text": [
            "Escribe tu nombre: daniel\n",
            "Digita tu edad: 35\n",
            "Hola Daniel, tienes 35 años.\n"
          ]
        }
      ]
    },
    {
      "cell_type": "code",
      "source": [
        "nombre_usuario = str(input(\"Ingresa tu nombre: \"))\n",
        "edad_usuario = int(input(\"Ingresa tu edad: \"))\n",
        "altura_usuario = float(input(\"Ingresa tu altura: \"))\n",
        "print(\"Hola {}, tienes {} años y mides {} mts.\" .format(nombre_usuario.capitalize(),\n",
        "edad_usuario, altura_usuario))"
      ],
      "metadata": {
        "id": "V_lWxel5Eiwy",
        "outputId": "08ef841e-17b7-411d-faf3-33a9b252d60c",
        "colab": {
          "base_uri": "https://localhost:8080/"
        }
      },
      "execution_count": null,
      "outputs": [
        {
          "output_type": "stream",
          "name": "stdout",
          "text": [
            "Ingresa tu nombre: daniel\n",
            "Ingresa tu edad: 35\n",
            "Ingresa tu altura: 1.65\n",
            "Hola Daniel, tienes 35 años y mides 1.65 mts.\n"
          ]
        }
      ]
    },
    {
      "cell_type": "code",
      "source": [
        "valor1 = int(input(\"Ingrese primer valor: \"))\n",
        "valor2 = int(input(\"Ingrese segundo valor: \"))\n",
        "resultado = valor1 + valor2\n",
        "print(f\"El resultado de {valor1} + {valor2} es {resultado}\")"
      ],
      "metadata": {
        "id": "7MMyE3uhGgHa",
        "outputId": "4ae5659d-885e-4c22-f036-69dbb52ed5a3",
        "colab": {
          "base_uri": "https://localhost:8080/"
        }
      },
      "execution_count": null,
      "outputs": [
        {
          "output_type": "stream",
          "name": "stdout",
          "text": [
            "Ingrese primer valor: 12\n",
            "Ingrese segundo valor: 10\n",
            "El resultado de 12 + 10 es 22\n"
          ]
        }
      ]
    },
    {
      "cell_type": "code",
      "source": [
        "valor1 = int(input(\"Ingrese primer valor: \"))\n",
        "valor2 = int(input(\"Ingrese segundo valor: \"))\n",
        "valor3 = int(input(\"Ingrese tercer valor: \"))\n",
        "resultado = valor1 + valor2 + valor3\n",
        "print(f\"El resultado de {valor1} + {valor2} + {valor3} es {resultado}\")"
      ],
      "metadata": {
        "id": "cldr9X_aHmAj",
        "outputId": "03880c4a-51eb-4504-e5cf-fe65b8384166",
        "colab": {
          "base_uri": "https://localhost:8080/"
        }
      },
      "execution_count": null,
      "outputs": [
        {
          "output_type": "stream",
          "name": "stdout",
          "text": [
            "Ingrese primer valor: 2\n",
            "Ingrese segundo valor: 4\n",
            "Ingrese tercer valor: 8\n",
            "El resultado de 2 + 4 + 8 es 14\n"
          ]
        }
      ]
    },
    {
      "cell_type": "code",
      "source": [
        "valor1 = int(input(\"Ingrese primer valor: \"))\n",
        "valor2 = int(input(\"Ingrese segundo valor: \"))\n",
        "resultado = valor1 - valor2\n",
        "print(f\"El resultado de {valor1} - {valor2} es {resultado}\")"
      ],
      "metadata": {
        "id": "HQYMvVT8IHHi",
        "outputId": "e86a3dd9-2579-480e-d0cb-c48b5cb5e05f",
        "colab": {
          "base_uri": "https://localhost:8080/"
        }
      },
      "execution_count": null,
      "outputs": [
        {
          "output_type": "stream",
          "name": "stdout",
          "text": [
            "Ingrese primer valor: 10\n",
            "Ingrese segundo valor: 8\n",
            "El resultado de 10 - 8 es 2\n"
          ]
        }
      ]
    },
    {
      "cell_type": "code",
      "source": [
        "valor1 = int(input(\"Ingrese primer valor: \"))\n",
        "valor2 = int(input(\"Ingrese segundo valor: \"))\n",
        "resultado = valor1 * valor2\n",
        "print(f\"El resultado de {valor1} x {valor2} es {resultado}\")"
      ],
      "metadata": {
        "id": "TvvIslXnI00b",
        "outputId": "4b85ce9d-9ac7-44da-8d57-1e34b5999b3c",
        "colab": {
          "base_uri": "https://localhost:8080/"
        }
      },
      "execution_count": null,
      "outputs": [
        {
          "output_type": "stream",
          "name": "stdout",
          "text": [
            "Ingrese primer valor: 10\n",
            "Ingrese segundo valor: 4\n",
            "El resultado de 10 x 4 es 40\n"
          ]
        }
      ]
    },
    {
      "cell_type": "code",
      "source": [
        "numerador = int(input(\"Ingresa el numerador: \"))\n",
        "denominador = int(input(\"Ingresa el denominador: \"))\n",
        "\n",
        "if denominador != 0:\n",
        "    resultado = float(numerador / denominador)\n",
        "    print(f\"El resultado de la división entre {numerador} y {denominador} es: {resultado}\")\n",
        "else:\n",
        "    print(\"Error: el denominador no puede ser cero.\")"
      ],
      "metadata": {
        "id": "i-YAeRybJY0y",
        "outputId": "513b65cf-e496-480b-a6e9-fc2ac46459bb",
        "colab": {
          "base_uri": "https://localhost:8080/"
        }
      },
      "execution_count": null,
      "outputs": [
        {
          "output_type": "stream",
          "name": "stdout",
          "text": [
            "Ingresa el numerador: 4\n",
            "Ingresa el denominador: 2\n",
            "El resultado de la división entre 4 y 2 es: 2.0\n"
          ]
        }
      ]
    },
    {
      "cell_type": "code",
      "source": [
        "operador = int(input(\"Ingrese el operador: \"))\n",
        "potencia = int(input(\"Ingrese la potencia: \"))\n",
        "resultado_potencia = operador ** potencia\n",
        "print(f\"El resultado de {operador} elevado a {potencia} es {resultado_potencia}\")"
      ],
      "metadata": {
        "id": "JZy1Q9Tl_PgL",
        "outputId": "978397a7-250c-49cd-f9f0-471252287559",
        "colab": {
          "base_uri": "https://localhost:8080/"
        }
      },
      "execution_count": null,
      "outputs": [
        {
          "output_type": "stream",
          "name": "stdout",
          "text": [
            "Ingrese el operador: 8 \n",
            "Ingrese la potencia: 3\n",
            "El resultado de 8 elevado a 3 es 512\n"
          ]
        }
      ]
    },
    {
      "cell_type": "code",
      "source": [
        "numerador = int(input(\"Ingresa el numerador: \"))\n",
        "denominador = int(input(\"Ingresa el denominador: \"))\n",
        "\n",
        "if denominador != 0:\n",
        "    resultado = numerador // denominador\n",
        "    print(f\"El resultado ENTERO de la división entre {numerador} y {denominador} es: {resultado}\")\n",
        "else:\n",
        "    print(\"Error: el denominador no puede ser cero.\")\n"
      ],
      "metadata": {
        "id": "sb2zg7w-Bttl",
        "outputId": "5f2ef653-aa73-406f-d350-ce87b0d23c61",
        "colab": {
          "base_uri": "https://localhost:8080/"
        }
      },
      "execution_count": null,
      "outputs": [
        {
          "output_type": "stream",
          "name": "stdout",
          "text": [
            "Ingresa el numerador: 7\n",
            "Ingresa el denominador: 2\n",
            "El resultado ENTERO de la división entre 7 y 2 es: 3\n"
          ]
        }
      ]
    },
    {
      "cell_type": "code",
      "source": [
        "numerador = int(input(\"Ingresa el numerador: \"))\n",
        "denominador = int(input(\"Ingresa el denominador: \"))\n",
        "\n",
        "if denominador != 0:\n",
        "    resultado = numerador % denominador\n",
        "    print(f\"El RESTO de la división entre {numerador} y {denominador} es: {resultado}\")\n",
        "else:\n",
        "    print(\"Error: el denominador no puede ser cero.\")"
      ],
      "metadata": {
        "id": "KGwy_Y-aC7Gl",
        "outputId": "dee9af1d-a254-4de7-f9a1-f93434838e60",
        "colab": {
          "base_uri": "https://localhost:8080/"
        }
      },
      "execution_count": null,
      "outputs": [
        {
          "output_type": "stream",
          "name": "stdout",
          "text": [
            "Ingresa el numerador: 7\n",
            "Ingresa el denominador: 2\n",
            "El RESTO de la división entre 7 y 2 es: 1\n"
          ]
        }
      ]
    },
    {
      "cell_type": "code",
      "source": [
        "nota_1 = float(input(\"Ingrese primera nota: \"))\n",
        "nota_2 = float(input(\"Ingrese segunda nota: \"))\n",
        "nota_3 = float(input(\"Ingrese tercera nota: \"))\n",
        "promedio_alumno = float((nota_1 + nota_2 + nota_3)/3)\n",
        "print(\"El promedio del alumno es: %.1f\"%(promedio_alumno))"
      ],
      "metadata": {
        "id": "Tji6YMlFD3js",
        "outputId": "7c459786-4e76-43b4-f4e0-b2130c1fe09e",
        "colab": {
          "base_uri": "https://localhost:8080/"
        }
      },
      "execution_count": null,
      "outputs": [
        {
          "output_type": "stream",
          "name": "stdout",
          "text": [
            "Ingrese primera nota: 7.0\n",
            "Ingrese segunda nota: 6.9\n",
            "Ingrese tercera nota: 5.5\n",
            "El promedio del alumno es: 6.5\n"
          ]
        }
      ]
    },
    {
      "cell_type": "code",
      "source": [
        "#Crea un código que calcule e imprima el promedio ponderado de los números 5, 12, 20 y 15 con pesos respectivamente iguales a 1, 2, 3 y 4.\n",
        "promedio_ponderado  = ((5*1 + 12*2 + 20*3 + 15*4)/(1 + 2 + 3 + 4))\n",
        "print(\"El promedio ponderado es %.2f\"%(promedio_ponderado))"
      ],
      "metadata": {
        "id": "jLuuZgbTG3YN",
        "outputId": "4bb58f1c-b6e8-4423-d509-4fa7e1f97114",
        "colab": {
          "base_uri": "https://localhost:8080/"
        }
      },
      "execution_count": null,
      "outputs": [
        {
          "output_type": "stream",
          "name": "stdout",
          "text": [
            "El promedio ponderado es 14.90\n"
          ]
        }
      ]
    },
    {
      "cell_type": "markdown",
      "source": [
        "La salida de este comando siempre será una *string*. Esto quiere decir que aunque capturemos un valor de variable numérica, este será de tipo string.\n",
        "\n",
        "Entonces, será necesario **convertir el resultado cuando no se desea utilizar el valor como tipo string**."
      ],
      "metadata": {
        "id": "7z7hcLCk_aCY"
      }
    },
    {
      "cell_type": "markdown",
      "source": [
        "Existen funciones para la conversión de valores:\n",
        "\n",
        "- Enteros: [`int(dato_para_conversion)`](https://docs.python.org/3/library/functions.html#int)\n",
        "- Coma flotante: [`float(dato_para_conversion)`](https://docs.python.org/3/library/functions.html#float)\n",
        "- String: [`str(dato_para_conversion)`](https://docs.python.org/3/library/functions.html#func-str)\n",
        "- Booleano: [`bool(dato_para_conversion)`](https://docs.python.org/3/library/functions.html#bool)"
      ],
      "metadata": {
        "id": "TOlegATj1Jfp"
      }
    },
    {
      "cell_type": "code",
      "source": [
        "ano_admision = int(input(\"Digita el año de Admisión: \"))\n"
      ],
      "metadata": {
        "id": "M2ueeH6l_NMe",
        "colab": {
          "base_uri": "https://localhost:8080/"
        },
        "outputId": "c570ed0e-ccd3-4ae8-917b-681d7b10a433"
      },
      "execution_count": null,
      "outputs": [
        {
          "name": "stdout",
          "output_type": "stream",
          "text": [
            "Digita el año de Admisión: 2006\n"
          ]
        }
      ]
    },
    {
      "cell_type": "code",
      "source": [
        "type(ano_admision)"
      ],
      "metadata": {
        "id": "xfWwuViK_NUn",
        "colab": {
          "base_uri": "https://localhost:8080/"
        },
        "outputId": "351a8aa2-fa0a-447a-885a-22cc230fb34f"
      },
      "execution_count": null,
      "outputs": [
        {
          "output_type": "execute_result",
          "data": {
            "text/plain": [
              "int"
            ]
          },
          "metadata": {},
          "execution_count": 16
        }
      ]
    },
    {
      "cell_type": "code",
      "source": [
        "nota_admision = float(input(\"Digite su nota de Admisión: \"))"
      ],
      "metadata": {
        "colab": {
          "base_uri": "https://localhost:8080/"
        },
        "id": "bQ6uv-MDlPrH",
        "outputId": "6e9c7e3b-55d3-4f56-e4ca-67432a9e0e46"
      },
      "execution_count": null,
      "outputs": [
        {
          "name": "stdout",
          "output_type": "stream",
          "text": [
            "Digite su nota de Admisión: 7.0\n"
          ]
        }
      ]
    },
    {
      "cell_type": "code",
      "source": [
        "type(nota_admision)"
      ],
      "metadata": {
        "colab": {
          "base_uri": "https://localhost:8080/"
        },
        "id": "lmoBDV6GjaMk",
        "outputId": "8ada9737-d608-4ab4-d556-8365c671ab93"
      },
      "execution_count": null,
      "outputs": [
        {
          "output_type": "execute_result",
          "data": {
            "text/plain": [
              "float"
            ]
          },
          "metadata": {},
          "execution_count": 18
        }
      ]
    },
    {
      "cell_type": "code",
      "source": [
        "print(f\"El año de admisión fue: {ano_admision} \\nLa nota de admisión fue: {nota_admision}\")"
      ],
      "metadata": {
        "colab": {
          "base_uri": "https://localhost:8080/"
        },
        "id": "xYRucjWsjaVN",
        "outputId": "d81cbc74-9253-4bcf-da62-93070883e6b0"
      },
      "execution_count": null,
      "outputs": [
        {
          "output_type": "stream",
          "name": "stdout",
          "text": [
            "El año de admisión fue: 2006 \n",
            "La nota de admisión fue: 7.0\n"
          ]
        }
      ]
    },
    {
      "cell_type": "code",
      "source": [
        "nombre_alumno = \"Penélope Camacho\"\n",
        "print('Nombre del alumno: %s' %(nombre_alumno))"
      ],
      "metadata": {
        "id": "ZFHXu6PavtbE",
        "outputId": "6627eb3a-1b44-4e03-f6d6-dde345b2b04f",
        "colab": {
          "base_uri": "https://localhost:8080/"
        }
      },
      "execution_count": null,
      "outputs": [
        {
          "output_type": "stream",
          "name": "stdout",
          "text": [
            "Nombre del alumno: Penélope Camacho\n"
          ]
        }
      ]
    },
    {
      "cell_type": "code",
      "source": [
        "nombre_alumno = \"Penélope Camacho\"\n",
        "apodo_alumno = \"La Cacho\"\n",
        "edad_alumno = 11\n",
        "media_alumno = 9.95\n",
        "print (\"Nombre del alumno: %s, le dicen \\\"%s\\\", tiene %d años y su media es %.2f.\" %(nombre_alumno, apodo_alumno, edad_alumno, media_alumno))"
      ],
      "metadata": {
        "id": "uFCHDyew_NZm",
        "outputId": "b0bfa214-f4ee-4699-fe71-3238c1853106",
        "colab": {
          "base_uri": "https://localhost:8080/"
        }
      },
      "execution_count": null,
      "outputs": [
        {
          "output_type": "stream",
          "name": "stdout",
          "text": [
            "Nombre del alumno: Penélope Camacho, le dicen \"La Cacho\", tiene 11 años y su media es 9.95.\n"
          ]
        }
      ]
    },
    {
      "cell_type": "code",
      "source": [
        "x = True\n",
        "print(\"Valor de x: %s\" %str(x))\n",
        "type(x)"
      ],
      "metadata": {
        "id": "fmfrfgTBvxKs",
        "outputId": "f4ce831a-978e-4106-9ef1-d658ecaf3b8c",
        "colab": {
          "base_uri": "https://localhost:8080/"
        }
      },
      "execution_count": null,
      "outputs": [
        {
          "output_type": "stream",
          "name": "stdout",
          "text": [
            "Valor de x: True\n"
          ]
        },
        {
          "output_type": "execute_result",
          "data": {
            "text/plain": [
              "bool"
            ]
          },
          "metadata": {},
          "execution_count": 5
        }
      ]
    },
    {
      "cell_type": "code",
      "source": [
        "nombre_alumno2 = 'Fabricio Daniel'\n",
        "edad_alumno2 = 15\n",
        "media_alumno2 = 9.95\n",
        "print('Nombre del alumno es {}, tiene {} años y su media es {}.' .format(nombre_alumno2, edad_alumno2, media_alumno2))\n",
        "type(media_alumno2)"
      ],
      "metadata": {
        "id": "QG_evhA7v1K0",
        "outputId": "8698ddd3-3f98-4969-9e2e-630c7d8e3fa5",
        "colab": {
          "base_uri": "https://localhost:8080/"
        }
      },
      "execution_count": null,
      "outputs": [
        {
          "output_type": "stream",
          "name": "stdout",
          "text": [
            "Nombre del alumno es Fabricio Daniel, tiene 15 años y su media es 9.95.\n"
          ]
        },
        {
          "output_type": "execute_result",
          "data": {
            "text/plain": [
              "float"
            ]
          },
          "metadata": {},
          "execution_count": 6
        }
      ]
    },
    {
      "cell_type": "markdown",
      "source": [
        "Trataremos de representar mejor ahora el resultado de la transformación que obtuvimos. Nosotros podemos formatear y presentar nuestro resultado mezclando strings con valores no textuales.\n",
        "\n",
        "Para ello utilizamos la estructura de formatación `f` con strings."
      ],
      "metadata": {
        "id": "yNI2-XTbB3aS"
      }
    },
    {
      "cell_type": "code",
      "source": [],
      "metadata": {
        "id": "2O82GEh37JRq"
      },
      "execution_count": null,
      "outputs": []
    },
    {
      "cell_type": "code",
      "source": [],
      "metadata": {
        "id": "keJjA5N9_K5i"
      },
      "execution_count": null,
      "outputs": []
    },
    {
      "cell_type": "markdown",
      "source": [
        "# Estructuras condicionales"
      ],
      "metadata": {
        "id": "NwRaiHHHhhyl"
      }
    },
    {
      "cell_type": "code",
      "source": [
        "#nota de aprobación entre 7 y 10 == nota de aprobación >= 7\n",
        "#nota de reprobación es menor a 7 == nota de reprobación < 7\n",
        "\"\"\"\n",
        "Si la nota es mayor o igual a 7 el estudiante aprueba\n",
        "Si no el estudiante reprueba\n",
        "\"\"\"\n",
        "nota_alumno = float(input(\"Ingrese la nota del alumno: \"))\n",
        "#primera condición\n",
        "if nota_alumno >= 7 and nota_alumno <= 10:\n",
        "  print(f\"El estudiante tiene nota {nota_alumno}, por lo tanto está APROBADO\")\n",
        "#segunda condición si es que la anterior no se cumple\n",
        "elif nota_alumno >=1 and nota_alumno < 7:\n",
        "  print(f\"El estudiante tiene nota {nota_alumno}, por lo tanto está REPROBADO\")\n",
        "#si no se cumple ninguna condición\n",
        "else:\n",
        "  print(\"Debe ingresar un valor dentro del rango (1 - 10)\")\n",
        "print(\"Fin de la consulta\") #mensaje al finalizar, independiente el número ingresado\n"
      ],
      "metadata": {
        "id": "4A5ElTWdv4Cj",
        "outputId": "242ee2c3-1680-44d3-f662-5ae38bdcaf0b",
        "colab": {
          "base_uri": "https://localhost:8080/"
        }
      },
      "execution_count": null,
      "outputs": [
        {
          "output_type": "stream",
          "name": "stdout",
          "text": [
            "Ingrese la nota del alumno: 7\n",
            "El estudiante tiene nota 7.0, por lo tanto está APROBADO\n",
            "Fin de la consulta\n"
          ]
        }
      ]
    },
    {
      "cell_type": "code",
      "source": [
        "nota = float(input(\"Ingrese la nota: \"))\n",
        "if nota >= 7:\n",
        "  print(\"Estudiante aprobó\")\n",
        "if 7 > nota >= 5:\n",
        "  print(\"Estudiante va a recuperación\")\n",
        "if nota < 5:\n",
        "  print(\"Estudiante reprobó\")\n"
      ],
      "metadata": {
        "id": "TGfHmS3V7KBS",
        "outputId": "0e1559e3-f5c9-4632-a3cc-c036d26a53e1",
        "colab": {
          "base_uri": "https://localhost:8080/"
        }
      },
      "execution_count": null,
      "outputs": [
        {
          "output_type": "stream",
          "name": "stdout",
          "text": [
            "Ingrese la nota: 7\n",
            "Estudiante aprobó\n"
          ]
        }
      ]
    },
    {
      "cell_type": "markdown",
      "source": [
        "## `IF` y `ELSE`\n",
        "\n",
        "Los comandos `if` y `else` son dos estructuras condicionales. El comando `if` ejecutará el bloque de comandos en caso de que la condición citada sea  **verdadera**. El comando `else` ejecutará el bloque de comandos en el caso de que la condicional de `if` sea **falsa**."
      ],
      "metadata": {
        "id": "qXZqg9aYEhAh"
      }
    },
    {
      "cell_type": "markdown",
      "source": [
        "El comando `if` es una palabra clave en Python que significa \"si\". Este se emplea para conformar la estructura condicional, que te permite verificar si una determinada condición es verdadera o falsa e, inmediatamente después, ejecute un bloque de código específico dependiendo del resultado de la verificación. La sintaxis para usar el comando `if` es:\n",
        "\n",
        "\n",
        "\n",
        "```\n",
        "if condicion:\n",
        "    # Realiza algo\n",
        "```\n",
        "\n"
      ],
      "metadata": {
        "id": "EIhlqHXd2Gil"
      }
    },
    {
      "cell_type": "code",
      "source": [],
      "metadata": {
        "id": "S2S6XAFz-czM"
      },
      "execution_count": null,
      "outputs": []
    },
    {
      "cell_type": "code",
      "source": [],
      "metadata": {
        "id": "YHkwMMyY-c1r"
      },
      "execution_count": null,
      "outputs": []
    },
    {
      "cell_type": "markdown",
      "source": [
        "Ya el comando `else` en Python se usa en junción con la palabra clave `if` para formar una estructura condicional. la sintaxis para usar el `else` es:\n",
        "\n",
        "```\n",
        "if condicion:\n",
        "  # codigo en caso de que sea verdad\n",
        "else:\n",
        "  # codigo en caso de que sea falso\n",
        "```\n",
        "\n",
        "el comando `else` se ejecuta cuando la condición verificada por el `if` es evaluada como `False`."
      ],
      "metadata": {
        "id": "27RW2v_sIKct"
      }
    },
    {
      "cell_type": "code",
      "source": [],
      "metadata": {
        "id": "ZTfNJd_f-aOq"
      },
      "execution_count": null,
      "outputs": []
    },
    {
      "cell_type": "code",
      "source": [],
      "metadata": {
        "id": "LPOb5MkV-btq"
      },
      "execution_count": null,
      "outputs": []
    },
    {
      "cell_type": "markdown",
      "source": [
        "---\n",
        "**Situación:**\n",
        "\n",
        "Recibiremos el promedio de la nota de los estudiantes y necesitamos de un algoritmo que ejecute el análisis y determine si el estudiante fue **Aprobado** o **Reprobado**, mostrando un mensaje del resultado. Para ser aprobado, el promedio necesita ser igual o superior a 7.0."
      ],
      "metadata": {
        "id": "BqORg85XX-Nl"
      }
    },
    {
      "cell_type": "code",
      "source": [
        "#nota de aprobación entre 7 y 10 == nota de aprobación >= 7\n",
        "#nota de reprobación es menor a 7 == nota de reprobación < 7\n",
        "\"\"\"\n",
        "Si la nota es mayor o igual a 7 el estudiante aprueba\n",
        "Si no el estudiante reprueba\n",
        "\"\"\"\n",
        "nota_alumno = float(input(\"Ingrese la nota del alumno: \"))\n",
        "#primera condición\n",
        "if nota_alumno >= 7 and nota_alumno <= 10:\n",
        "  print(f\"El estudiante tiene nota {nota_alumno}, por lo tanto está APROBADO\")\n",
        "#segunda condición si es que la anterior no se cumple\n",
        "elif nota_alumno >=1 and nota_alumno < 7:\n",
        "  print(f\"El estudiante tiene nota {nota_alumno}, por lo tanto está REPROBADO\")\n",
        "#si no se cumple ninguna condición\n",
        "else:\n",
        "  print(\"Debe ingresar un valor dentro del rango (1 - 10)\")\n",
        "print(\"Fin de la consulta\") #mensaje al finalizar, independiente el número ingresado"
      ],
      "metadata": {
        "id": "UukCN4AQ-YYW",
        "outputId": "2277ff41-e495-4991-afb0-c04850c2ac30",
        "colab": {
          "base_uri": "https://localhost:8080/"
        }
      },
      "execution_count": null,
      "outputs": [
        {
          "output_type": "stream",
          "name": "stdout",
          "text": [
            "Ingrese la nota del alumno: 5\n",
            "El estudiante tiene nota 5.0, por lo tanto está REPROBADO\n",
            "Fin de la consulta\n"
          ]
        }
      ]
    },
    {
      "cell_type": "code",
      "source": [],
      "metadata": {
        "id": "X0o8FW1H-YkA"
      },
      "execution_count": null,
      "outputs": []
    },
    {
      "cell_type": "markdown",
      "source": [
        "Ahora, nuestra institución educativa estableció que las personas que tengan el promedio entre 5.0 y 7.0 pueden participar del curso de **Recuperación** durante las vacaciones para lograr aprobar.\n",
        "\n",
        "Entonces podemos apoyarnos en un conjunto de `if`s para poder estructurar esta nueva condición."
      ],
      "metadata": {
        "id": "bD9O17HB6LUo"
      }
    },
    {
      "cell_type": "code",
      "source": [
        "nota = float(input(\"Ingrese la nota: \"))\n",
        "if nota >= 7:\n",
        "  print(\"Estudiante aprobó\")\n",
        "if 7 > nota >= 5:\n",
        "  print(\"Estudiante va a recuperación\")\n",
        "if nota < 5:\n",
        "  print(\"Estudiante reprobó\")"
      ],
      "metadata": {
        "id": "G9cJ5O9--W52",
        "outputId": "660737c2-1ec5-4150-f8e1-ac651bed139f",
        "colab": {
          "base_uri": "https://localhost:8080/"
        }
      },
      "execution_count": null,
      "outputs": [
        {
          "output_type": "stream",
          "name": "stdout",
          "text": [
            "Ingrese la nota: 8\n",
            "Estudiante aprobó\n"
          ]
        }
      ]
    },
    {
      "cell_type": "code",
      "source": [],
      "metadata": {
        "id": "iU-pjoJt-W89"
      },
      "execution_count": null,
      "outputs": []
    },
    {
      "cell_type": "markdown",
      "source": [
        "Observa que en casos con 3 situaciones como este necesitamos definir bien nuestras condiciones. Pues, si realizamos una condición con `else` al final, este irá a considerar solamente la condición `if` inmediatamente anterior para generar la salida en caso de que el resultado de su operación lógica sea **falso** dando como resultado, dos o más ejecuciones.\n",
        "\n",
        "Por ejemplo:"
      ],
      "metadata": {
        "id": "D5e2mByjvycO"
      }
    },
    {
      "cell_type": "code",
      "source": [],
      "metadata": {
        "id": "C21JmOuK-VU8"
      },
      "execution_count": null,
      "outputs": []
    },
    {
      "cell_type": "code",
      "source": [],
      "metadata": {
        "id": "bHiVgnPs-Vlv"
      },
      "execution_count": null,
      "outputs": []
    },
    {
      "cell_type": "markdown",
      "source": [
        "## `ELIF`\n",
        "\n",
        "El comando `elif` es una palabra clave en Python que significa \"si no, si\" y lo podemos considerar una *contracción* entre `else` e `if`. Se utiliza en conjunto con la palabra clave `if` para formar una estructura condicional en cadena."
      ],
      "metadata": {
        "id": "04T5g-7h4zWx"
      }
    },
    {
      "cell_type": "markdown",
      "source": [
        "la sintaxis para utilizar el comando `elif` es:\n",
        "\n",
        "```\n",
        "if condicion1:\n",
        "    # Realiza algo\n",
        "elif condicion2:\n",
        "    # Realiza otra cosa\n",
        "elif condicion3:\n",
        "    # Realiza otra cosa\n",
        "else:\n",
        "    # Realiza algo diferente\n",
        "```\n",
        "\n",
        "El comando `elif` permite que puedas verificar varias condiciones en cadena, economizando espacio en tu código. Si la primera condición se evalúa como `False`, el interpretador de Python evaluará la próxima condición con el `elif`. Ello continuará hasta que una condición sea evaluada como `True` o hasta que el `else` sea alcazado. Si ninguna de las condiciones es evaluada como `True`, la ejecución del código del comando `else` será iniciada."
      ],
      "metadata": {
        "id": "rNBHr5mm1Lm6"
      }
    },
    {
      "cell_type": "markdown",
      "source": [
        "Vamos a emplear el mismo caso anterior:"
      ],
      "metadata": {
        "id": "MVoykFbB4bd4"
      }
    },
    {
      "cell_type": "code",
      "source": [
        "nota = float(input(\"Ingrese la nota: \"))\n",
        "if nota >= 7:\n",
        "  print(\"Estudiante aprobó\")\n",
        "elif 7 > nota >= 5:\n",
        "  print(\"Estudiante va a recuperación\")\n",
        "else:\n",
        "  print(\"Estudiante reprobó\")"
      ],
      "metadata": {
        "id": "QFamB78s-TW_",
        "outputId": "3362fb3a-2db0-4015-c8e9-5fb02f8ae0dc",
        "colab": {
          "base_uri": "https://localhost:8080/"
        }
      },
      "execution_count": null,
      "outputs": [
        {
          "output_type": "stream",
          "name": "stdout",
          "text": [
            "Ingrese la nota: 2\n",
            "Estudiante reprobó\n"
          ]
        }
      ]
    },
    {
      "cell_type": "code",
      "source": [],
      "metadata": {
        "id": "nuScbnHF-TfK"
      },
      "execution_count": null,
      "outputs": []
    },
    {
      "cell_type": "markdown",
      "source": [
        "## Operadores\n",
        "\n",
        "Durante la construcción de comandos a veces necesitamos de una elaboración mayor de la expresión condicional, necesitando que algunos operadores lógicos se encuentren integrados."
      ],
      "metadata": {
        "id": "Tf1wSOem6iwZ"
      }
    },
    {
      "cell_type": "markdown",
      "source": [
        "### `AND`, `OR`, `NOT`\n",
        "\n",
        "Los operadores lógicos `and`, `or` y `not` son usados para combinar expresiones lógicas en Python. Ellos son usados frecuentemente en conjunto con el comando `if` para crear estructuras condicionales más complejas.\n"
      ],
      "metadata": {
        "id": "GFIZnRWXGPWO"
      }
    },
    {
      "cell_type": "markdown",
      "source": [
        "- `AND` es usado para verificar si dos condiciones son verdaderas. La expresión lógica¹ `x and y` se evalúa como `True` tan solo si **ambas condiciones `x` y `y` son verdaderas**, y como `False` en caso contrario.\n",
        "\n",
        "- `OR` es usado para verificar si al menos una de las condiciones es verdadera. La expresión lógica `x or y` se evalúa como `True` **si al menos una de las condiciones `x` o `y` es verdadera**, y como `False` si ambas condiciones son falsas.\n",
        "\n",
        "- `NOT` es usado para **negar una condición**. La expresión lógica `not x` es evaluada como `True` si la condición x es falsa, y como `False` si la condición x es verdadera.\n",
        "\n",
        "¹ Una expresión lógica es una declaración que puede ser evaluada como verdadera o falsa. Ella se compone por operandos lógicos² y por operadores lógicos³, que son usados ​​para combinar varias expresiones lógicas en una única expresión.\n",
        "\n",
        "² Los operandos lógicos son los elementos que son comparados o evaluados en una expresión lógica. Ellos son generalmente valores verdaderos o falsos, pero también pueden ser expresiones lógicas más complejas. En Python, los operandos lógicos son los valores `True` y `False`.\n",
        "\n",
        "³ Los operadores lógicos son ls símbolos o palabras clave que son usados ​​para combinar varias expresiones lógicas en una única expresión. En Python, los operadores lógicos son `and`, `or` y `not`, bien como las palabras clave `if`, `elif` e `else`."
      ],
      "metadata": {
        "id": "Z_dgAoHXJbzB"
      }
    },
    {
      "cell_type": "markdown",
      "source": [
        "> Operadores lógicos más comunes\n",
        "\n",
        "|a|b|AND|OR|NOT|\n",
        "|-|-|-|-|-|\n",
        "|0|0|0|0|1\n",
        "|0|1|0|1|-\n",
        "|1|0|0|1|-\n",
        "|1|1|1|1|0\n"
      ],
      "metadata": {
        "id": "2E5aUogf-49u"
      }
    },
    {
      "cell_type": "code",
      "source": [
        "v = True\n",
        "f = False"
      ],
      "metadata": {
        "id": "DFKmpvmS-Pa6"
      },
      "execution_count": null,
      "outputs": []
    },
    {
      "cell_type": "code",
      "source": [
        "if f and v:\n",
        "  print(\"La condición es verdadera\")\n",
        "else:\n",
        "  print(\"La condición es falsa\")"
      ],
      "metadata": {
        "id": "W5BIrpOD-PeI",
        "outputId": "5712fa54-b30c-4a26-8ec7-4c3da0503947",
        "colab": {
          "base_uri": "https://localhost:8080/"
        }
      },
      "execution_count": null,
      "outputs": [
        {
          "output_type": "stream",
          "name": "stdout",
          "text": [
            "La condición es falsa\n"
          ]
        }
      ]
    },
    {
      "cell_type": "code",
      "source": [
        "if v or v:\n",
        "  print(\"La condición es verdadera\")\n",
        "else:\n",
        "  print(\"La condición es falsa\")"
      ],
      "metadata": {
        "id": "fpDhYxq4-PiM",
        "outputId": "99584bee-a3b0-49b7-91d6-f6bda13ad2c5",
        "colab": {
          "base_uri": "https://localhost:8080/"
        }
      },
      "execution_count": null,
      "outputs": [
        {
          "output_type": "stream",
          "name": "stdout",
          "text": [
            "La condición es verdadera\n"
          ]
        }
      ]
    },
    {
      "cell_type": "code",
      "source": [
        "if not f:\n",
        "  print(\"La condición es verdadera\")\n",
        "else:\n",
        "  print(\"La condición es falsa\")"
      ],
      "metadata": {
        "id": "Eyg0edt4FhaI",
        "outputId": "acfd6aaf-1e75-4d56-dbad-9ddc0ce86191",
        "colab": {
          "base_uri": "https://localhost:8080/"
        }
      },
      "execution_count": null,
      "outputs": [
        {
          "output_type": "stream",
          "name": "stdout",
          "text": [
            "La condición es verdadera\n"
          ]
        }
      ]
    },
    {
      "cell_type": "markdown",
      "source": [
        "### `IN`\n",
        "\n",
        "Es usado para verificar si un elemento está presente en una lista, tupla u otra colección de conjunto. La expresión `x in y` se evalúa como `True` si el elemento `x` esta presente na variávelen la variable de conjunto `y`, y como `False` en caso contrario."
      ],
      "metadata": {
        "id": "w7EXG1dhWtja"
      }
    },
    {
      "cell_type": "markdown",
      "source": [
        "Podemos verificarlo con variables de texto.\n",
        "\n",
        "---\n",
        "\n",
        "**Situación:**\n",
        "\n",
        "En la escuela nos entregaron una lista con nombres de estudiantes que fueron aprobados según el promedio del semestre, pero es necesario verificar si algunos nombres están en esa lista para confirmar que los datos estén correctos.\n",
        "\n",
        "La lista distribuida puede ser observada a continuación:\n",
        "\n",
        "```\n",
        "lista = 'Juan Pérez, María González, Pedro Rodríguez, Ana López, Carlos Martínez,\n",
        "    Laura Sánchez, José García, Elena Fernández, Luis Morales, Carmen Torres,\n",
        "    David Ruiz, Isabel Ramírez, Javier Díaz, Sara Herrera, Miguel Castro,\n",
        "    Patricia Ortega, Francisco Vargas, Marta Jiménez, Manuel Medina, Rosa Molina,\n",
        "    Alejandro Silva, Silvia Ruiz, Andrés Torres, Natalia Soto, Diego Guerrero,\n",
        "    Paula Ríos, Ricardo Navarro, Alicia Cordero, Carlos Vidal, Lorena Gómez'\n",
        "```\n",
        "\n",
        "Los nombres que necesitas verificar son los siguientes:\n",
        "\n",
        "```\n",
        "nombre_1 = 'Miguel Castro'\n",
        "nombre_2 = 'Marcelo Noguera'\n",
        "```"
      ],
      "metadata": {
        "id": "enJNp6JenQbq"
      }
    },
    {
      "cell_type": "code",
      "source": [
        "lista = ['Juan Pérez', 'María González', 'Pedro Rodríguez', 'Ana López', 'Carlos Martínez',\n",
        "    'Laura Sánchez', 'José García', 'Elena Fernández', 'Luis Morales', 'Carmen Torres',\n",
        "    'David Ruiz', 'Isabel Ramírez', 'Javier Díaz', 'Sara Herrera', 'Miguel Castro',\n",
        "    'Patricia Ortega', 'Francisco Vargas', 'Marta Jiménez', 'Manuel Medina', 'Rosa Molina',\n",
        "    'Alejandro Silva', 'Silvia Ruiz', 'Andrés Torres', 'Natalia Soto', 'Diego Guerrero',\n",
        "    'Paula Ríos', 'Ricardo Navarro', 'Alicia Cordero', 'Carlos Vidal', 'Lorena Gómez']\n",
        "\n",
        "\n"
      ],
      "metadata": {
        "id": "gPPN9BCT-Mki"
      },
      "execution_count": null,
      "outputs": []
    },
    {
      "cell_type": "code",
      "source": [
        "nombre_1 = 'Miguel Castro'\n",
        "nombre_2 = 'Marcelo Noguera'"
      ],
      "metadata": {
        "id": "GINbG3Fa-Mnb"
      },
      "execution_count": null,
      "outputs": []
    },
    {
      "cell_type": "code",
      "source": [
        "if nombre_1 in lista:\n",
        "  print(\"El estudiante aprobó\")\n",
        "else:\n",
        "  print(\"El estudiante reprobó\")"
      ],
      "metadata": {
        "id": "hk-RhNRT-Mp7",
        "colab": {
          "base_uri": "https://localhost:8080/"
        },
        "outputId": "50a14580-1d13-41e4-be4e-d9b761b7c123"
      },
      "execution_count": null,
      "outputs": [
        {
          "output_type": "stream",
          "name": "stdout",
          "text": [
            "El estudiante aprobó\n"
          ]
        }
      ]
    },
    {
      "cell_type": "code",
      "source": [
        "if nombre_2 in lista:\n",
        "  print(\"El estudiante aprobó\")\n",
        "else:\n",
        "  print(\"El estudiante reprobó\")"
      ],
      "metadata": {
        "colab": {
          "base_uri": "https://localhost:8080/"
        },
        "id": "SJuaBqTJ0mSR",
        "outputId": "96240c2d-ec8b-4fb3-b76c-a33712c5f93b"
      },
      "execution_count": null,
      "outputs": [
        {
          "output_type": "stream",
          "name": "stdout",
          "text": [
            "El estudiante reprobó\n"
          ]
        }
      ]
    },
    {
      "cell_type": "markdown",
      "source": [
        "# ***12 Desafio: ¡Es hora de practicar!***"
      ],
      "metadata": {
        "id": "n4zb8Yzj8onW"
      }
    },
    {
      "cell_type": "markdown",
      "source": [
        "1 - Escribe un programa que pida a la persona usuaria que proporcione dos números y muestre el número más grande."
      ],
      "metadata": {
        "id": "n1Q7QTXj8_rO"
      }
    },
    {
      "cell_type": "code",
      "source": [
        "primer_numero = int(input(\"Ingresa un número: \"))\n",
        "segundo_numero = int(input(\"Ingrese un número: \"))\n",
        "if primer_numero > segundo_numero:\n",
        "  print(f\"El número mayor es: {primer_numero}\")\n",
        "else:\n",
        "  print(f\"El número mayor es: {segundo_numero}\")"
      ],
      "metadata": {
        "colab": {
          "base_uri": "https://localhost:8080/"
        },
        "id": "OBiVgSP_9LLn",
        "outputId": "ac22c1c4-b3fe-49e5-e42e-2c3735806160"
      },
      "execution_count": null,
      "outputs": [
        {
          "output_type": "stream",
          "name": "stdout",
          "text": [
            "Ingresa un número: 3\n",
            "Ingrese un número: 4\n",
            "El número mayor es: 4\n"
          ]
        }
      ]
    },
    {
      "cell_type": "code",
      "source": [
        "primer_numero = int(input(\"Ingresa un número: \"))\n",
        "segundo_numero = int(input(\"Ingrese un número: \"))\n",
        "mayor = max(primer_numero, segundo_numero)\n",
        "print(f\"El número mayor es {mayor}\")"
      ],
      "metadata": {
        "id": "qiaQc4SwCTh1"
      },
      "execution_count": null,
      "outputs": []
    },
    {
      "cell_type": "markdown",
      "source": [
        "2 - Escribe un programa que solicite el porcentaje de crecimiento de producción de una empresa e informe si hubo un crecimiento (porcentaje positivo) o una disminución (porcentaje negativo).\n"
      ],
      "metadata": {
        "id": "nrv3NPea9Gl8"
      }
    },
    {
      "cell_type": "code",
      "source": [
        "porcentaje_anterior = float(input(\"Ingrese el porcentaje de producción del mes anterior: \"))\n",
        "porcentaje_nuevo = float(input(\"Ingrese el porcentaje de crecimiento de producción: \"))\n",
        "porcentaje_actual = float(porcentaje_anterior + porcentaje_nuevo)\n",
        "\n",
        "if porcentaje_nuevo > 0:\n",
        "    print(f\"Hubo un crecimiento del {porcentaje_nuevo}% en la producción.\")\n",
        "elif porcentaje_nuevo < 0:\n",
        "    print(f\"Hubo una disminución del {abs(porcentaje_nuevo)}% en la producción.\") #el abs es para que el número se vea positivo si es que se ingresa un valor negativo\n",
        "else:\n",
        "    print(\"No hubo variación en la producción.\")\n",
        "print(f\"Porcentaje de crecimiento actual: {porcentaje_actual}%\")"
      ],
      "metadata": {
        "colab": {
          "base_uri": "https://localhost:8080/"
        },
        "id": "XYHqqzzE879n",
        "outputId": "552b22c5-8d80-4d8e-b931-316e68ac88b5"
      },
      "execution_count": null,
      "outputs": [
        {
          "output_type": "stream",
          "name": "stdout",
          "text": [
            "Ingrese el porcentaje de producción del mes anterior: 14\n",
            "Ingrese el porcentaje de crecimiento de producción: 12\n",
            "Hubo un crecimiento del 12.0% en la producción.\n",
            "Porcentaje de crecimiento actual: 26.0%\n"
          ]
        }
      ]
    },
    {
      "cell_type": "code",
      "source": [
        "# Recolectamos el porcentaje\n",
        "variacion = float(input(\"Ingrese el porcentaje de crecimiento: \"))\n",
        "# Verificamos si el valor es positivo o negativo con una comparación para ver si el número\n",
        "# es mayor o menor que 0\n",
        "if variacion > 0:\n",
        "    print(f\"Hubo un crecimiento del {variacion}%\")\n",
        "elif variacion < 0:\n",
        "    print(f\"Hubo un decrecimiento del {variacion}%\")\n",
        "else:\n",
        "    print(\"No hubo crecimiento ni decrecimiento.\")"
      ],
      "metadata": {
        "colab": {
          "base_uri": "https://localhost:8080/"
        },
        "id": "oWxztT0bNA29",
        "outputId": "9bdd60a0-a4f9-495a-d17c-22d08fef4c83"
      },
      "execution_count": null,
      "outputs": [
        {
          "output_type": "stream",
          "name": "stdout",
          "text": [
            "Ingrese el porcentaje de crecimiento: 13\n",
            "Hubo un crecimiento del 13.0%\n"
          ]
        }
      ]
    },
    {
      "cell_type": "markdown",
      "source": [
        "3 - Escribe un programa que determine si una letra proporcionada por la persona usuaria es una vocal o una consonante."
      ],
      "metadata": {
        "id": "u-YiV51H9MR2"
      }
    },
    {
      "cell_type": "code",
      "source": [
        "lista_consonantes = [\"Q\",\"W\",\"R\",\"T\",\"Y\",\"P\",\"S\",\"D\",\"F\",\"G\",\"H\",\"J\",\"K\",\"L\",\"Z\",\"X\",\"C\",\"V\",\"B\",\"N\",\"M\",\"Ñ\"]\n",
        "lista_vocales = [\"A\",\"E\",\"I\",\"O\",\"U\"]\n",
        "letra = input(\"Inserte una letra: \")\n",
        "\n",
        "if letra.upper() in lista_consonantes:\n",
        "  print(f\"La letra \\\"{letra}\\\" es una consonante\")\n",
        "elif letra.upper() in lista_vocales:\n",
        "  print(f\"La letra \\\"{letra}\\\" es una vocal\")\n",
        "else:\n",
        "  print(\"La información proporcionada no corresponde a vocales ni consonantes\")\n",
        "\n"
      ],
      "metadata": {
        "colab": {
          "base_uri": "https://localhost:8080/"
        },
        "id": "UblNQiL59PAF",
        "outputId": "b38836a8-579d-43c8-992b-21fd7d14b8ed"
      },
      "execution_count": null,
      "outputs": [
        {
          "output_type": "stream",
          "name": "stdout",
          "text": [
            "Inserte una letra: r\n",
            "La letra \"r\" es una consonante\n"
          ]
        }
      ]
    },
    {
      "cell_type": "code",
      "source": [
        "lista_consonantes = [\"Q\",\"W\",\"R\",\"T\",\"Y\",\"P\",\"S\",\"D\",\"F\",\"G\",\"H\",\"J\",\"K\",\"L\",\"Z\",\"X\",\"C\",\"V\",\"B\",\"N\",\"M\",\"Ñ\"]\n",
        "lista_vocales = [\"A\",\"E\",\"I\",\"O\",\"U\"]\n",
        "letra = input(\"Inserte una letra: \")\n",
        "\n",
        "# Validar que solo sea una letra y que esté en las listas\n",
        "if len(letra) == 1 and letra.upper().isalpha():\n",
        "  if letra.upper() in lista_consonantes:\n",
        "    print(f\"La letra \\\"{letra}\\\" es una consonante\")\n",
        "  elif letra.upper() in lista_vocales:\n",
        "    print(f\"La letra \\\"{letra}\\\" es una vocal\")\n",
        "  else:\n",
        "    print(\"El dato entregado no es válido\")\n",
        "else:\n",
        "  print(\"Error: Al ingresar la letra\")\n"
      ],
      "metadata": {
        "id": "Hzavz8ukM0fD",
        "outputId": "80d4a5cc-a7f6-403c-ce94-056793d68a29",
        "colab": {
          "base_uri": "https://localhost:8080/"
        }
      },
      "execution_count": null,
      "outputs": [
        {
          "output_type": "stream",
          "name": "stdout",
          "text": [
            "Inserte una letra: a\n",
            "La letra \"a\" es una vocal\n"
          ]
        }
      ]
    },
    {
      "cell_type": "markdown",
      "source": [
        "4 - Escribe un programa que lea valores promedio de precios de un modelo de automóvil durante 3 años consecutivos y muestre el valor más alto y más bajo entre esos tres años.\n"
      ],
      "metadata": {
        "id": "7KPHhtYH9Pqe"
      }
    },
    {
      "cell_type": "code",
      "source": [
        "auto_ano_1 = int(input(\"Ingrese valor de automóvil del primer año: \"))\n",
        "auto_ano_2 = int(input(\"Ingrese valor de automóvil del segundo año: \"))\n",
        "auto_ano_3 = int(input(\"Ingrese valor de automóvil del tercer año: \"))\n",
        "if auto_ano_1 >= auto_ano_2 and auto_ano_1 >= auto_ano_3:\n",
        "  mayor = auto_ano_1\n",
        "elif auto_ano_2 >= auto_ano_1 and auto_ano_2 >= auto_ano_3:\n",
        "  mayor = auto_ano_2\n",
        "else:\n",
        "  mayor = auto_ano_3\n",
        "\n",
        "if auto_ano_1 <= auto_ano_2 and auto_ano_1 <= auto_ano_3:\n",
        "  menor = auto_ano_1\n",
        "elif auto_ano_2 <= auto_ano_1 and auto_ano_2 <= auto_ano_3:\n",
        "  menor = auto_ano_2\n",
        "else:\n",
        "  menor = auto_ano_3\n",
        "\n",
        "print(f\"El valor mayor es de: ${mayor:,}\".replace(\",\", \".\"))\n",
        "print(f\"El valor menor es de: ${menor:,}\".replace(\",\", \".\"))"
      ],
      "metadata": {
        "colab": {
          "base_uri": "https://localhost:8080/"
        },
        "id": "YHu2MGgh9S4X",
        "outputId": "ba3e2021-da7e-4aee-a399-892cea6485a9"
      },
      "execution_count": null,
      "outputs": [
        {
          "output_type": "stream",
          "name": "stdout",
          "text": [
            "Ingrese valor de automóvil del primer año: 5000000\n",
            "Ingrese valor de automóvil del segundo año: 4000000\n",
            "Ingrese valor de automóvil del tercer año: 10000000\n",
            "El valor mayor es de: $10.000.000\n",
            "El valor menor es de: $4.000.000\n"
          ]
        }
      ]
    },
    {
      "cell_type": "markdown",
      "source": [
        "5 - Escribe un programa que pregunte sobre el precio de tres productos e indique cuál es el producto más barato para comprar."
      ],
      "metadata": {
        "id": "WZ_f3ueg9TUW"
      }
    },
    {
      "cell_type": "code",
      "source": [
        "producto_1 = int(input(\"Ingrese el precio del primer producto: \"))\n",
        "producto_2 = int(input(\"Ingrese el precio del segundo producto: \"))\n",
        "producto_3 = int(input(\"Ingrese el precio del tercer producto: \"))\n",
        "producto = str(\"\")\n",
        "\n",
        "if producto_1 <= producto_2 and producto_1 <= producto_3:\n",
        "  producto_menor = producto_1\n",
        "  producto = \"Producto 1\"\n",
        "elif producto_2 <= producto_1 and producto_2 <= producto_3:\n",
        "  producto_menor = producto_2\n",
        "  producto = \"Producto 2\"\n",
        "else:\n",
        "  producto_menor = producto_3\n",
        "  producto = \"Producto 3\"\n",
        "print(f\"El {producto} es el de menor valor y cuesta: ${producto_menor:,}\".replace(\",\", \".\"))\n"
      ],
      "metadata": {
        "colab": {
          "base_uri": "https://localhost:8080/"
        },
        "id": "kD4pWbBv9WJm",
        "outputId": "459b4898-3852-40ad-9fea-23cba2841da5"
      },
      "execution_count": null,
      "outputs": [
        {
          "output_type": "stream",
          "name": "stdout",
          "text": [
            "Ingrese el precio del primer producto: 1200\n",
            "Ingrese el precio del segundo producto: 1500\n",
            "Ingrese el precio del tercer producto: 700\n",
            "El Producto 3 es el de menor valor y cuesta: $700\n"
          ]
        }
      ]
    },
    {
      "cell_type": "markdown",
      "source": [
        "6 - Escribe un programa que lea tres números y los muestre en orden descendente."
      ],
      "metadata": {
        "id": "pzgU9m_v9Wif"
      }
    },
    {
      "cell_type": "code",
      "source": [
        "valor_1 = int(input(\"Ingrese primer valor:\"))\n",
        "valor_2 = int(input(\"Ingrese segundo valor:\"))\n",
        "valor_3 = int(input(\"Ingrese tercer valor:\"))\n",
        "if valor_1 >= valor_2 and valor_1 >= valor_3:\n",
        "  if valor_2 >= valor_3:\n",
        "    print(f\"Los valores ordenados de manera descendente son: [{valor_1}] > [{valor_2}] > [{valor_3}]\")\n",
        "  else:\n",
        "    print(f\"Los valores ordenados de manera descendente son: [{valor_1}] > [{valor_3}] > [{valor_2}]\")\n",
        "elif valor_2 >= valor_1 and valor_2 >= valor_3:\n",
        "    if valor_1 >= valor_3:\n",
        "      print(f\"Los valores ordenados de manera descendente son: [{valor_2}] > [{valor_1}] > [{valor_3}]\")\n",
        "    else:\n",
        "      print(f\"Los valores ordenados de manera descendente son: [{valor_2}] > [{valor_3}] > [{valor_1}]\")\n",
        "else:\n",
        "  if valor_1 >= valor_2:\n",
        "    print(f\"Los valores ordenados de manera descendente son: [{valor_3}] > [{valor_1}] > [{valor_2}]\")\n",
        "  else:\n",
        "    print(f\"Los valores ordenados de manera descendente son: [{valor_3}] > [{valor_2}] > [{valor_1}]\")\n",
        "\n",
        "\n"
      ],
      "metadata": {
        "id": "AxIpb11w9ZZu",
        "colab": {
          "base_uri": "https://localhost:8080/"
        },
        "outputId": "623886f9-01e7-437e-fa89-d8b92a9a707a"
      },
      "execution_count": null,
      "outputs": [
        {
          "output_type": "stream",
          "name": "stdout",
          "text": [
            "Ingrese primer valor:12\n",
            "Ingrese segundo valor:5\n",
            "Ingrese tercer valor:18\n",
            "Los valores ordenados de manera descendente son: [18] > [12] > [5]\n"
          ]
        }
      ]
    },
    {
      "cell_type": "markdown",
      "source": [
        "7 -Escribe un programa que pregunte en qué turno estudia la persona usuaria (\"mañana\", \"tarde\" o \"noche\") y muestre el mensaje \"¡Buenos Días!\", \"¡Buenas Tardes!\", \"¡Buenas Noches!\" o \"Valor Inválido!\", según el caso."
      ],
      "metadata": {
        "id": "sze_JzcU9fgu"
      }
    },
    {
      "cell_type": "code",
      "source": [
        "nombre_persona = str(input(\"Ingrese su nombre: \").capitalize())\n",
        "turno_persona = str(input(\"Ingrese su turno: \").lower())\n",
        "if turno_persona == \"mañana\":\n",
        "  print(f\"Buenos días {nombre_persona}\")\n",
        "elif turno_persona == \"tarde\":\n",
        "  print(f\"Buenas tardes {nombre_persona}\")\n",
        "elif turno_persona == \"noche\":\n",
        "  print(f\"Buenas noches {nombre_persona}\")\n",
        "else:\n",
        "  print(\"Error: Al ingresar datos.\")"
      ],
      "metadata": {
        "id": "91rMvw0M9b5P",
        "colab": {
          "base_uri": "https://localhost:8080/"
        },
        "outputId": "ace05f95-a32c-4ade-ac64-b3d7d5779dd9"
      },
      "execution_count": null,
      "outputs": [
        {
          "output_type": "stream",
          "name": "stdout",
          "text": [
            "Ingrese su nombre: daniel\n",
            "Ingrese su turno: tarde\n",
            "Buenas tardes Daniel\n"
          ]
        }
      ]
    },
    {
      "cell_type": "markdown",
      "source": [
        "8 - Escribe un programa que solicite un número entero a la persona usuaria y determine si es par o impar. Pista: Puedes usar el operador módulo (%)."
      ],
      "metadata": {
        "id": "RgxvBZx19i5H"
      }
    },
    {
      "cell_type": "code",
      "source": [
        "numero = int(input(\"Ingrese un número entero: \"))\n",
        "if numero % 2 == 0:\n",
        "  print(f\"El número {numero} es par.\")\n",
        "else:\n",
        "  print(f\"El número {numero} es impar.\")"
      ],
      "metadata": {
        "id": "Hrp_VZiQ9mSv"
      },
      "execution_count": null,
      "outputs": []
    },
    {
      "cell_type": "code",
      "source": [
        "try:\n",
        "    numero = int(input(\"Ingrese un número entero: \"))\n",
        "\n",
        "    if numero % 2 == 0:\n",
        "        print(f\"El número {numero} es par.\")\n",
        "    else:\n",
        "        print(f\"El número {numero} es impar.\")\n",
        "\n",
        "except ValueError:\n",
        "    print(\"Error: No se ingresó un número entero válido.\")"
      ],
      "metadata": {
        "colab": {
          "base_uri": "https://localhost:8080/"
        },
        "id": "H-vCXV-e698D",
        "outputId": "eaa8476f-30f1-45e7-abe8-cf71ea4cfafd"
      },
      "execution_count": null,
      "outputs": [
        {
          "output_type": "stream",
          "name": "stdout",
          "text": [
            "Ingrese un número entero: 457\n",
            "El número 457 es impar.\n"
          ]
        }
      ]
    },
    {
      "cell_type": "markdown",
      "source": [
        "9 - Escribe un programa que pida un número a la persona usuaria y le informe si es entero o decimal."
      ],
      "metadata": {
        "id": "mWcDEisk9mqO"
      }
    },
    {
      "cell_type": "code",
      "source": [
        "numero = float(input(\"Ingrese un número: \"))\n",
        "if numero == int(numero):\n",
        "  print(\"El número %d es entero.\"%(numero))\n",
        "else:\n",
        "  print(\"El número {} es decimal.\".format(numero))"
      ],
      "metadata": {
        "id": "wKbNgQRZ9pWe",
        "colab": {
          "base_uri": "https://localhost:8080/"
        },
        "outputId": "5e2a29c2-ca55-48eb-e028-9b36d8e61baa"
      },
      "execution_count": null,
      "outputs": [
        {
          "output_type": "stream",
          "name": "stdout",
          "text": [
            "Ingrese un número: 22\n",
            "El número 22 es entero.\n"
          ]
        }
      ]
    },
    {
      "cell_type": "markdown",
      "source": [
        "10 - Un programa debe ser escrito para leer dos números y luego preguntar a la persona usuaria qué operación desea realizar. El resultado de la operación debe incluir información sobre el número, si es par o impar, positivo o negativo, e entero o decimal."
      ],
      "metadata": {
        "id": "029peZJr9pf-"
      }
    },
    {
      "cell_type": "code",
      "source": [
        "numero = float(input(\"Ingrese un número: \"))\n",
        "print(\"Su número es [{}]\\n¿Qué operación desea realizar con este número?: \\n1.- Saber si es par o impar.\\n2.- Saber si es positivo o negativo.\\n3.- Saber si es entero o decimal\".format(numero))\n",
        "opcion = int(input(\"Ingrese una opción: \"))\n",
        "#1. par o impar\n",
        "if opcion == 1:\n",
        "  if numero % 2 == 0: #par\n",
        "      if numero == int(numero):\n",
        "        print(\"El número %d es par.\"%(numero)) #si el número es entero, formato de entero %d\n",
        "      else:\n",
        "        print(\"El número {} es par.\".format(numero)) #si el número es decimal, formato de decimal\n",
        "  else: #impar\n",
        "      if numero == int(numero):\n",
        "        print(\"El número %d es impar.\"%(numero)) #si el número es entero, formato de entero %d\n",
        "      else:\n",
        "        print(\"El número {} es impar.\".format(numero)) #si el número es decimal, formato de decimal\n",
        "\n",
        "#2. positivo o negativo\n",
        "if opcion == 2:\n",
        "  if numero > 0: #positivo\n",
        "    if numero == int(numero):\n",
        "      print(\"El número %d es positivo.\"%(numero)) #si el número es entero, formato de entero %d\n",
        "    else:\n",
        "      print(\"El número {} es positivo.\".format(numero)) #si el número es decimal, formato de decimal\n",
        "  elif numero < 0: #negativo\n",
        "    if numero == int(numero):\n",
        "      print(\"El número %d es negativo.\"%(numero)) #si el número es entero, formato de entero %d\n",
        "    else:\n",
        "      print(\"El número {} es negativo.\".format(numero)) #si el número es decimal, formato de decimal\n",
        "  else:\n",
        "    print(\"El número es 0.\")\n",
        "\n",
        "#3. entero o decimal\n",
        "if opcion == 3:\n",
        "  if numero == int(numero):\n",
        "    print(\"El número %d es entero.\"%(numero))\n",
        "  else:\n",
        "    print(\"El número {} es decimal.\".format(numero))\n",
        "\n",
        "\n"
      ],
      "metadata": {
        "id": "_Ec5bGXG9rl-",
        "colab": {
          "base_uri": "https://localhost:8080/"
        },
        "outputId": "0cd177a3-3ba1-481e-c000-3d9a215c8432"
      },
      "execution_count": null,
      "outputs": [
        {
          "output_type": "stream",
          "name": "stdout",
          "text": [
            "Ingrese un número: 2.3\n",
            "Su número es [2.3]\n",
            "¿Qué operación desea realizar con este número?: \n",
            "1.- Saber si es par o impar.\n",
            "2.- Saber si es positivo o negativo.\n",
            "3.- Saber si es entero o decimal\n",
            "Ingrese una opción: 3\n",
            "El número 2.3 es decimal.\n"
          ]
        }
      ]
    },
    {
      "cell_type": "markdown",
      "source": [
        "11 - Escribe un programa que pida a la persona usuaria tres números que representan los lados de un triángulo. El programa debe informar si los valores pueden utilizarse para formar un triángulo y, en caso afirmativo, si es equilátero, isósceles o escaleno. Ten en cuenta algunas sugerencias:\n",
        "\n",
        "* Tres lados forman un triángulo cuando la suma de cualesquiera dos lados es mayor que el tercero;\n",
        "* Triángulo Equilátero: tres lados iguales;\n",
        "* Triángulo Isósceles: dos lados iguales;\n",
        "* Triángulo Escaleno: tres lados diferentes."
      ],
      "metadata": {
        "id": "otcQUVuk9rum"
      }
    },
    {
      "cell_type": "code",
      "source": [
        "#triángulos\n",
        "lado_1 = int(input(\"Ingrese lado del triángulo: \"))\n",
        "lado_2 = int(input(\"Ingrese lado del triángulo: \"))\n",
        "lado_3 = int(input(\"Ingrese lado del triángulo: \"))\n",
        "if lado_1 == lado_2 == lado_3: #todos los lados iguales: equilátero\n",
        "  print(\"Triángulo Equilátero\")\n",
        "elif lado_1 == lado_2 or lado_2 == lado_3 or lado_1 == lado_3: #2 lados iguales: isósceles\n",
        "  print(\"Triángulo Isósceles\")\n",
        "else: #todos los lados distintos: escaleno\n",
        "  print(\"Triángulo Escaleno\")\n"
      ],
      "metadata": {
        "id": "IO87dfXS9z82",
        "colab": {
          "base_uri": "https://localhost:8080/"
        },
        "outputId": "eb154400-a3a6-462b-c9f3-84beeeefe0b4"
      },
      "execution_count": null,
      "outputs": [
        {
          "output_type": "stream",
          "name": "stdout",
          "text": [
            "Ingrese lado del triángulo: 12\n",
            "Ingrese lado del triángulo: 14\n",
            "Ingrese lado del triángulo: 12\n",
            "Triángulo Isósceles\n"
          ]
        }
      ]
    },
    {
      "cell_type": "markdown",
      "source": [
        "12 - Un establecimiento está vendiendo combustibles con descuentos variables. Para el etanol, si la cantidad comprada es de hasta 15 litros, el descuento será del 2% por litro. En caso contrario, será del 4% por litro. Para el diésel, si la cantidad comprada es de hasta 15 litros, el descuento será del 3% por litro. En caso contrario, será del 5% por litro. El precio por litro de diésel es de `R$ 2,00`  y el precio por litro de etanol es de `R$ 1,70`. Escribe un programa que lea la cantidad de litros vendidos y el tipo de combustible (E para etanol y D para diésel) y calcule el valor a pagar por el cliente. Ten en cuenta algunas sugerencias:\n",
        "\n",
        "* El valor del descuento será el producto del precio por litro, la cantidad de litros y el valor del descuento.\n",
        "* El valor a pagar por un cliente será el resultado de la multiplicación del precio por litro por la cantidad de litros menos el valor del descuento resultante del cálculo.\n"
      ],
      "metadata": {
        "id": "jEAnVGJ3-Id1"
      }
    },
    {
      "cell_type": "code",
      "source": [
        "#Mi solución:\n",
        "precio_etanol_lt  = float(1.7)\n",
        "precio_diesel_lt = float(2.0)\n",
        "tipo_combustible = (input(\"---COMBUSTIBLE---\\nPresione [E]: ETANOL\\nPresione [D]: DIESEL\\nSeleccione el tipo de combustible: \")).upper()\n",
        "cantidad_lt = float(input(\"Ingrese la cantidad de combustible que desea llevar: \"))\n",
        "\n",
        "if tipo_combustible == \"E\":\n",
        "  if cantidad_lt <= 15 and cantidad_lt > 0:\n",
        "    subtotal = (precio_etanol_lt * cantidad_lt)\n",
        "    precio_dcto = subtotal* 0.02\n",
        "    precio_final = ((precio_etanol_lt * cantidad_lt) - precio_dcto)\n",
        "\n",
        "  elif cantidad_lt > 15:\n",
        "    subtotal = (precio_etanol_lt * cantidad_lt)\n",
        "    precio_dcto = subtotal * 0.04\n",
        "    precio_final = ((precio_etanol_lt * cantidad_lt) - precio_dcto)\n",
        "\n",
        "  else:\n",
        "    print(\"Error: Debe ingresar un valor mayor a 0.\")\n",
        "\n",
        "elif tipo_combustible == \"D\":\n",
        "  if cantidad_lt <= 15 and cantidad_lt > 0:\n",
        "    subtotal = (precio_diesel_lt * cantidad_lt)\n",
        "    precio_dcto = subtotal * 0.03\n",
        "    precio_final = ((precio_diesel_lt * cantidad_lt) - precio_dcto)\n",
        "\n",
        "  elif cantidad_lt > 15:\n",
        "    subtotal = (precio_diesel_lt * cantidad_lt)\n",
        "    precio_dcto = subtotal * 0.05\n",
        "    precio_final = ((precio_diesel_lt * cantidad_lt) - precio_dcto)\n",
        "\n",
        "  else:\n",
        "    print(\"Error: Debe ingresar un valor mayor a 0.\")\n",
        "\n",
        "else:\n",
        "  subtotal = precio_dcto = precio_final = 0\n",
        "  print(\"Error al ingresar el tipo de combustible\")\n",
        "\n",
        "print(\"Subtotal   : %.2f R$\"%(subtotal))\n",
        "print(\"Descuento  : %.2f R$\"%(precio_dcto))\n",
        "print(\"Total      : %.2f R$\"%(precio_final))"
      ],
      "metadata": {
        "id": "yDVUIl6x-UMP",
        "colab": {
          "base_uri": "https://localhost:8080/"
        },
        "outputId": "5e924914-2042-4e04-9682-76eccfc3d390"
      },
      "execution_count": null,
      "outputs": [
        {
          "output_type": "stream",
          "name": "stdout",
          "text": [
            "---COMBUSTIBLE---\n",
            "Presione [E]: ETANOL\n",
            "Presione [D]: DIESEL\n",
            "Seleccione el tipo de combustible: e\n",
            "Ingrese la cantidad de combustible que desea llevar: 22\n",
            "Subtotal   : 37.40 R$\n",
            "Descuento  : 1.50 R$\n",
            "Total      : 35.90 R$\n"
          ]
        }
      ]
    },
    {
      "cell_type": "code",
      "source": [
        "# Recolectamos la cantidad de litros y el tipo de combustible,\n",
        "# convirtiendo el carácter en mayúsculas para facilitar nuestro análisis\n",
        "cantidad_litros = float(input('Ingrese la cantidad de litros vendidos: '))\n",
        "tipo_combustible = input('Ingrese el tipo de combustible (E para etanol y D para diésel): ').upper()\n",
        "\n",
        "# Verificamos primero el tipo de combustible\n",
        "if tipo_combustible == 'E':\n",
        "  # Establecemos el precio por litro de etanol\n",
        "  precio_litro = 1.70\n",
        "  # Según la cantidad de litros, establecemos el descuento correspondiente\n",
        "  if cantidad_litros <= 15:\n",
        "    descuento = 0.02\n",
        "  else:\n",
        "    descuento = 0.04\n",
        "elif tipo_combustible == 'D':\n",
        "  # Establecemos el precio por litro de diésel\n",
        "  precio_litro = 2.00\n",
        "  # Según la cantidad de litros, establecemos el descuento correspondiente\n",
        "  if cantidad_litros <= 15:\n",
        "    descuento = 0.03\n",
        "  else:\n",
        "    descuento = 0.05\n",
        "# En caso de error en la especificación del tipo de combustible,\n",
        "# consideramos las entradas como no válidas y establecemos los precios y descuentos en 0\n",
        "else:\n",
        "    print('Entradas no válidas!')\n",
        "    precio_litro = 0\n",
        "    descuento = 0\n",
        "\n",
        "# Calculamos el valor del descuento, seguido del cálculo del precio descontado\n",
        "valor_descuento = precio_litro * cantidad_litros * descuento\n",
        "valor_pagado = precio_litro * cantidad_litros - valor_descuento\n",
        "\n",
        "# Resultado\n",
        "print(f'Valor a pagar por el cliente: R$ {valor_pagado}')"
      ],
      "metadata": {
        "colab": {
          "base_uri": "https://localhost:8080/"
        },
        "id": "BbO3DdVuLQXf",
        "outputId": "fe402438-43f7-496c-e06b-e3a20757cae3"
      },
      "execution_count": null,
      "outputs": [
        {
          "output_type": "stream",
          "name": "stdout",
          "text": [
            "Ingrese la cantidad de litros vendidos: 18\n",
            "Ingrese el tipo de combustible (E para etanol y D para diésel): D\n",
            "Valor a pagar por el cliente: R$ 34.2\n"
          ]
        }
      ]
    },
    {
      "cell_type": "markdown",
      "source": [
        "13 - En una empresa de venta de bienes raíces, debes crear un código que analice los datos de ventas anuales para ayudar a la dirección en la toma de decisiones. El código debe recopilar los datos de cantidad de ventas durante los años 2022 y 2023 y calcular la variación porcentual. A partir del valor de la variación, se deben proporcionar las siguientes sugerencias:\n",
        "\n",
        "* Para una variación superior al 20%: bonificación para el equipo de ventas.\n",
        "* Para una variación entre el 2% y el 20%: pequeña bonificación para el equipo de ventas.\n",
        "* Para una variación entre el 2% y el -10%: planificación de políticas de incentivo a las ventas.\n",
        "* Para bonificaciones inferiores al -10%: recorte de gastos."
      ],
      "metadata": {
        "id": "e_4q60-Z90oX"
      }
    },
    {
      "cell_type": "code",
      "source": [
        "# Recolectamos las ventas de los dos años\n",
        "venta_2022 = float(input(\"Ingrese la cantidad de ventas en 2022: \"))\n",
        "venta_2023 = float(input(\"Ingrese la cantidad de ventas en 2023: \"))\n",
        "\n",
        "# Se calcula la variación porcentual entre las ventas de los años 2022 y 2023\n",
        "var_porcentual = 100 * (venta_2023 - venta_2022) / (venta_2022)\n",
        "\n",
        "# Análisis condicional de la variación porcentual para determinar la sugerencia a enviar\n",
        "if var_porcentual > 20:\n",
        "    print(\"Bonificación para el equipo de ventas.\")\n",
        "elif 2 <= var_porcentual <= 20:\n",
        "    print(\"Pequeña bonificación para el equipo de ventas.\")\n",
        "elif -10 <= var_porcentual < 2:\n",
        "    print(\"Planificación de políticas de incentivo a las ventas.\")\n",
        "else:\n",
        "    print(\"Recorte de gastos.\")"
      ],
      "metadata": {
        "id": "06RGwI1G-Z5G",
        "colab": {
          "base_uri": "https://localhost:8080/"
        },
        "outputId": "cf7bd96a-25e0-43ac-f617-30d302a12ad2"
      },
      "execution_count": null,
      "outputs": [
        {
          "output_type": "stream",
          "name": "stdout",
          "text": [
            "Ingrese la cantidad de ventas en 2022: 14000000\n",
            "Ingrese la cantidad de ventas en 2023: 16000000\n",
            "Pequeña bonificación para el equipo de ventas.\n"
          ]
        }
      ]
    },
    {
      "cell_type": "markdown",
      "source": [],
      "metadata": {
        "id": "vJJvvBtm9cVD"
      }
    },
    {
      "cell_type": "markdown",
      "source": [
        "# Estructuras de repetición"
      ],
      "metadata": {
        "id": "aL1vJPewvwvz"
      }
    },
    {
      "cell_type": "markdown",
      "source": [
        "Cuando tenemos que ejecutar un mismo bloque de comandos durante varias ocasiones no es nada práctico hacerlo a mano.\n",
        "\n",
        "**Situación**: Nos fue solicitado obtener e imprimir el promedio de 2 notas de **3 estudantes**:"
      ],
      "metadata": {
        "id": "VcPfCa8d-84t"
      }
    },
    {
      "cell_type": "code",
      "source": [
        "nota_1 = float(input(\"Digite la primera nota: \"))\n",
        "nota_2 = float(input(\"Digite la segunda nota: \"))\n",
        "print(f\"El promedio del estudiante 1 es: {(nota_1+nota_2)/2}\")\n",
        "\n",
        "nota_1 = float(input(\"Digite la primera nota: \"))\n",
        "nota_2 = float(input(\"Digite la segunda nota: \"))\n",
        "print(f\"El promedio del estudiante 2 es: {(nota_1+nota_2)/2}\")\n",
        "\n",
        "nota_1 = float(input(\"Digite la primera nota: \"))\n",
        "nota_2 = float(input(\"Digite la segunda nota: \"))\n",
        "print(f\"El promedio del estudiante 3 es: {(nota_1+nota_2)/2}\")"
      ],
      "metadata": {
        "id": "xcx21IGT9qA0",
        "outputId": "f22b24d2-81de-4cfe-db28-2b4dbee24bc8",
        "colab": {
          "base_uri": "https://localhost:8080/"
        }
      },
      "execution_count": null,
      "outputs": [
        {
          "output_type": "stream",
          "name": "stdout",
          "text": [
            "Digite la primera nota: 7\n",
            "Digite la segunda nota: 6.7\n",
            "El promedio del estudiante 1 es: 6.85\n",
            "Digite la primera nota: 5\n",
            "Digite la segunda nota: 6\n",
            "El promedio del estudiante 2 es: 5.5\n",
            "Digite la primera nota: 7\n",
            "Digite la segunda nota: 7\n",
            "El promedio del estudiante 3 es: 7.0\n"
          ]
        }
      ]
    },
    {
      "cell_type": "code",
      "source": [
        "nota_1 = float(input(\"Digite la primera nota: \"))\n",
        "nota_2 = float(input(\"Digite la segunda nota: \"))\n",
        "print(f\"El promedio del estudiante es: {(nota_1+nota_2)/2}\")"
      ],
      "metadata": {
        "id": "Wtbiy9Ay9rGJ"
      },
      "execution_count": null,
      "outputs": []
    },
    {
      "cell_type": "code",
      "source": [],
      "metadata": {
        "id": "Yfyz4anY9rIr"
      },
      "execution_count": null,
      "outputs": []
    },
    {
      "cell_type": "markdown",
      "source": [
        "Ahora imaginemos una situación en que no son tan solo 3 estudiantes, sino 100 estudiantes. No sería nada interesante repetir el mismo código 100 veces, sino **ejecutar el mismo código 100 veces**.\n",
        "\n",
        "¡Esta estructura la logramos construir con lazos de repetición!"
      ],
      "metadata": {
        "id": "9puIuvUbFSFX"
      }
    },
    {
      "cell_type": "markdown",
      "source": [
        "## `WHILE`"
      ],
      "metadata": {
        "id": "uLO9-aE4-wx8"
      }
    },
    {
      "cell_type": "markdown",
      "source": [
        "El lazo `while` es una estructura de control de repetición en Python que permite ejecutar un bloque de código repetidamente mientras que una determinada condición sea verdadera. Su estructura es:\n",
        "\n",
        "\n",
        "\n",
        "```\n",
        "while condicion:\n",
        "    # bloque de codigo\n",
        "```\n",
        "\n",
        "Vamos a construir un ejemplo con un contador de 1 hasta 10.\n"
      ],
      "metadata": {
        "id": "rXZxDMiqHxm9"
      }
    },
    {
      "cell_type": "code",
      "source": [
        "contador = 1\n",
        "while contador <= 10:\n",
        "  print(contador)\n",
        "  #contador = contador + 1\n",
        "  contador += 1"
      ],
      "metadata": {
        "id": "Hd0ZSWxD9wCD",
        "outputId": "be7b1c68-719d-4670-b494-ce4b8b58f266",
        "colab": {
          "base_uri": "https://localhost:8080/"
        }
      },
      "execution_count": null,
      "outputs": [
        {
          "output_type": "stream",
          "name": "stdout",
          "text": [
            "1\n",
            "2\n",
            "3\n",
            "4\n",
            "5\n",
            "6\n",
            "7\n",
            "8\n",
            "9\n",
            "10\n"
          ]
        }
      ]
    },
    {
      "cell_type": "code",
      "source": [],
      "metadata": {
        "id": "miFHNqp29nOL"
      },
      "execution_count": null,
      "outputs": []
    },
    {
      "cell_type": "markdown",
      "source": [
        "Ahora vamos a colectar las notas y promedios de cada alumno dentro del lazo `while`. Haremos un ejemplo con 3 promedios."
      ],
      "metadata": {
        "id": "W4KZPBJuIrut"
      }
    },
    {
      "cell_type": "code",
      "source": [
        "contador = 1\n",
        "while contador <= 3:\n",
        "  nota_1 = float(input(\"Digite la primera nota: \"))\n",
        "  nota_2 = float(input(\"Digite la segunda nota: \"))\n",
        "  print(f\"El promedio del estudiante {contador} es: {(nota_1+nota_2)/2}\")\n",
        "  contador += 1"
      ],
      "metadata": {
        "id": "9T5eCLFx9wk6",
        "outputId": "b5d81bd2-6662-422c-f0b7-b4d78993d87d",
        "colab": {
          "base_uri": "https://localhost:8080/"
        }
      },
      "execution_count": null,
      "outputs": [
        {
          "output_type": "stream",
          "name": "stdout",
          "text": [
            "Digite la primera nota: 7\n",
            "Digite la segunda nota: 6.7\n",
            "El promedio del estudiante 1 es: 6.85\n",
            "Digite la primera nota: 5\n",
            "Digite la segunda nota: 6\n",
            "El promedio del estudiante 2 es: 5.5\n",
            "Digite la primera nota: 8\n",
            "Digite la segunda nota: 10\n",
            "El promedio del estudiante 3 es: 9.0\n"
          ]
        }
      ]
    },
    {
      "cell_type": "code",
      "source": [],
      "metadata": {
        "id": "P6E0_dW-9lZ9"
      },
      "execution_count": null,
      "outputs": []
    },
    {
      "cell_type": "markdown",
      "source": [
        "## `FOR`"
      ],
      "metadata": {
        "id": "WgAIaENMMfCP"
      }
    },
    {
      "cell_type": "markdown",
      "source": [
        "El lazo `for` es un tipo de estructura de control de flujo en Python que permite iterar sobre un conjunto de elementos. Su estructura es:\n",
        "\n",
        "\n",
        "\n",
        "```\n",
        "for elemento in conjunto:\n",
        "    # codigo a ser ejecutado para cada elemento\n",
        "```\n",
        "\n",
        "El lazo `for` itera sobre cada elemento del conjunto especificado y ejecuta el bloque de código dentro del lazo para cada elemento. Cuando el lazo llega al final del conjunto, este se interrumpe y el programa continúa la ejecución después del lazo.\n",
        "\n"
      ],
      "metadata": {
        "id": "HxrSZoRAMh-x"
      }
    },
    {
      "cell_type": "markdown",
      "source": [
        "El conjunto lo podemos generar con la función incorporada [`range()`](https://docs.python.org/3/library/functions.html#func-range). Se trata de una función capaz de generar una secuencia de números enteros. La estructura de esta función es:\n",
        "\n",
        "```\n",
        "range(inicio, fin, paso)\n",
        "```\n",
        "\n",
        "Según la documentación, `range()` genera una secuencia de números enteros a partir del valor del parámetro `inicio` hasta el valor del parámetro `fin`, de acuerdo con el valor del parámetro `paso`. Si `inicio` no es especificado, el valor por defecto es `0`. Si `paso` no es especificado, el valor por defecto es `1`.\n",
        "\n",
        "\n"
      ],
      "metadata": {
        "id": "6VgjyoQtPHBM"
      }
    },
    {
      "cell_type": "markdown",
      "source": [
        "Vamos a recrear el mismo contador `while` con el lazo `for`."
      ],
      "metadata": {
        "id": "ryn0hfdlUwC8"
      }
    },
    {
      "cell_type": "code",
      "source": [
        "for n in range(1,11):\n",
        "  print(n)\n"
      ],
      "metadata": {
        "id": "KkL1wUIj9jL4",
        "outputId": "c2771346-fb04-418a-833f-34238ee7b1b1",
        "colab": {
          "base_uri": "https://localhost:8080/"
        }
      },
      "execution_count": null,
      "outputs": [
        {
          "output_type": "stream",
          "name": "stdout",
          "text": [
            "1\n",
            "2\n",
            "3\n",
            "4\n",
            "5\n",
            "6\n",
            "7\n",
            "8\n",
            "9\n",
            "10\n"
          ]
        }
      ]
    },
    {
      "cell_type": "code",
      "source": [
        "for n in range (0,3,+1):\n",
        "\n",
        "  nota_1 = float(input(\"Digite la primera nota: \"))\n",
        "  nota_2 = float(input(\"Digite la segunda nota: \"))\n",
        "  print(f\"El promedio del estudiante {n+1} es: {(nota_1+nota_2)/2}\")"
      ],
      "metadata": {
        "id": "uXIZnLSr9jOu",
        "outputId": "57203f78-0b49-4d87-f3a1-1854a92feffe",
        "colab": {
          "base_uri": "https://localhost:8080/"
        }
      },
      "execution_count": null,
      "outputs": [
        {
          "output_type": "stream",
          "name": "stdout",
          "text": [
            "Digite la primera nota: 5\n",
            "Digite la segunda nota: 6\n",
            "El promedio del estudiante 1 es: 5.5\n",
            "Digite la primera nota: 6\n",
            "Digite la segunda nota: 7\n",
            "El promedio del estudiante 2 es: 6.5\n",
            "Digite la primera nota: 7\n",
            "Digite la segunda nota: 7\n",
            "El promedio del estudiante 3 es: 7.0\n"
          ]
        }
      ]
    },
    {
      "cell_type": "code",
      "source": [
        "for n in range (1,4):\n",
        "\n",
        "  nota_1 = float(input(\"Digite la primera nota: \"))\n",
        "  nota_2 = float(input(\"Digite la segunda nota: \"))\n",
        "  print(f\"El promedio del estudiante {n} es: {(nota_1+nota_2)/2}\")"
      ],
      "metadata": {
        "id": "-nDgUO8eMMv-",
        "outputId": "618691f8-e3d3-4e25-d27b-77cc5138b4ca",
        "colab": {
          "base_uri": "https://localhost:8080/"
        }
      },
      "execution_count": null,
      "outputs": [
        {
          "output_type": "stream",
          "name": "stdout",
          "text": [
            "Digite la primera nota: 5\n",
            "Digite la segunda nota: 6\n",
            "El promedio del estudiante 1 es: 5.5\n",
            "Digite la primera nota: 6\n",
            "Digite la segunda nota: 7\n",
            "El promedio del estudiante 2 es: 6.5\n",
            "Digite la primera nota: 7\n",
            "Digite la segunda nota: 7\n",
            "El promedio del estudiante 3 es: 7.0\n"
          ]
        }
      ]
    },
    {
      "cell_type": "code",
      "source": [
        "total_propiedades = 0\n",
        "\n",
        "for año in range(2017, 2023):\n",
        "  cantidad_propiedades = float(input(f'Digite la cantidad de propiedades en el año {año}: '))\n",
        "  total_propiedades += cantidad_propiedades\n",
        "\n",
        "print(f'Total de propiedades construidas: {total_propiedades} propiedades')"
      ],
      "metadata": {
        "id": "9a8MP6-jTFXS",
        "outputId": "b5dc4f50-0ba3-4f35-bcdc-125de9545b3f",
        "colab": {
          "base_uri": "https://localhost:8080/"
        }
      },
      "execution_count": null,
      "outputs": [
        {
          "output_type": "stream",
          "name": "stdout",
          "text": [
            "Digite la cantidad de propiedades en el año 2017: 3\n",
            "Digite la cantidad de propiedades en el año 2018: 4\n",
            "Digite la cantidad de propiedades en el año 2019: 2\n",
            "Digite la cantidad de propiedades en el año 2020: 2\n",
            "Digite la cantidad de propiedades en el año 2021: 4\n",
            "Digite la cantidad de propiedades en el año 2022: 5\n",
            "Total de propiedades construidas: 20.0 propiedades\n"
          ]
        }
      ]
    },
    {
      "cell_type": "code",
      "source": [
        "for i in range(1, 6):\n",
        "    if i == 4:\n",
        "        continue\n",
        "    print(i)"
      ],
      "metadata": {
        "id": "qql6UzYSu984",
        "outputId": "a23babcd-0e18-4e55-b258-b9c88025ac7e",
        "colab": {
          "base_uri": "https://localhost:8080/"
        }
      },
      "execution_count": 1,
      "outputs": [
        {
          "output_type": "stream",
          "name": "stdout",
          "text": [
            "1\n",
            "2\n",
            "3\n",
            "5\n"
          ]
        }
      ]
    },
    {
      "cell_type": "code",
      "source": [
        "for i in range(1, 6):\n",
        "    if i == 4:\n",
        "        break\n",
        "    print(i)\n",
        ""
      ],
      "metadata": {
        "id": "JdrGXJrevPIv",
        "outputId": "fe405610-6d44-4d5e-ea03-62a1da9b0fda",
        "colab": {
          "base_uri": "https://localhost:8080/"
        }
      },
      "execution_count": 2,
      "outputs": [
        {
          "output_type": "stream",
          "name": "stdout",
          "text": [
            "1\n",
            "2\n",
            "3\n"
          ]
        }
      ]
    },
    {
      "cell_type": "markdown",
      "source": [
        "1 - Escribe un programa que solicite dos números enteros e imprima todos los números enteros entre ellos."
      ],
      "metadata": {
        "id": "TSXIJGH6y1C2"
      }
    },
    {
      "cell_type": "code",
      "source": [
        "inicio = int(input(\"Ingrese un número inicial: \"))\n",
        "termino = int(input(\"Ingrese un número de término: \"))\n",
        "for i in range(inicio, termino+1):\n",
        "  print(i)"
      ],
      "metadata": {
        "id": "ft8Cw2zzyChw",
        "outputId": "1c6e7c4d-0619-4f44-8a12-b1e6047cc3ef",
        "colab": {
          "base_uri": "https://localhost:8080/"
        }
      },
      "execution_count": 4,
      "outputs": [
        {
          "output_type": "stream",
          "name": "stdout",
          "text": [
            "Ingrese un número inicial: 1\n",
            "Ingrese un número de término: 4\n",
            "1\n",
            "2\n",
            "3\n",
            "4\n"
          ]
        }
      ]
    },
    {
      "cell_type": "markdown",
      "source": [
        "2 - Escribe un programa para calcular cuántos días tomará que la colonia de una bacteria A supere o iguale a la colonia de una bacteria B, basado en tasas de crecimiento del 3% y 1.5%, respectivamente. Supón que la colonia A comienza con 4 elementos y B con 10."
      ],
      "metadata": {
        "id": "3DmCjL1qy4sm"
      }
    },
    {
      "cell_type": "code",
      "source": [
        "colonia_a = 4\n",
        "colonia_b = 10\n",
        "crecimiento_colonia_a =0\n",
        "crecimiento_colonia_b =0\n",
        "dia = 1\n",
        "print(f\"Día {dia} Colonia A: {colonia_a} Colonia B: {colonia_b}\")\n",
        "while colonia_a <= colonia_b:\n",
        "  crecimiento_colonia_a = ((colonia_a * 0.03) + colonia_a)\n",
        "  crecimiento_colonia_b = ((colonia_b * 0.015) + colonia_b)\n",
        "  colonia_a = crecimiento_colonia_a\n",
        "  colonia_b = crecimiento_colonia_b\n",
        "  dia +=1\n",
        "  print(f\"Día {dia} [Colonia A: {colonia_a} | Colonia B: {colonia_b}]\")\n",
        "print(f\"La Colonia A superó a la Colonia B el día {dia}\")"
      ],
      "metadata": {
        "id": "wtoP6188y7xH",
        "outputId": "dee70a16-b683-46b4-8344-c35ea4bba2b4",
        "colab": {
          "base_uri": "https://localhost:8080/"
        }
      },
      "execution_count": 41,
      "outputs": [
        {
          "output_type": "stream",
          "name": "stdout",
          "text": [
            "Día 1 Colonia A: 4 Colonia B: 10\n",
            "Día 2 [Colonia A: 4.12 | Colonia B: 10.15]\n",
            "Día 3 [Colonia A: 4.2436 | Colonia B: 10.30225]\n",
            "Día 4 [Colonia A: 4.370908 | Colonia B: 10.456783750000001]\n",
            "Día 5 [Colonia A: 4.50203524 | Colonia B: 10.61363550625]\n",
            "Día 6 [Colonia A: 4.637096297199999 | Colonia B: 10.77284003884375]\n",
            "Día 7 [Colonia A: 4.776209186116 | Colonia B: 10.934432639426406]\n",
            "Día 8 [Colonia A: 4.91949546169948 | Colonia B: 11.098449129017803]\n",
            "Día 9 [Colonia A: 5.067080325550465 | Colonia B: 11.26492586595307]\n",
            "Día 10 [Colonia A: 5.219092735316979 | Colonia B: 11.433899753942367]\n",
            "Día 11 [Colonia A: 5.375665517376488 | Colonia B: 11.605408250251502]\n",
            "Día 12 [Colonia A: 5.536935482897783 | Colonia B: 11.779489374005275]\n",
            "Día 13 [Colonia A: 5.703043547384716 | Colonia B: 11.956181714615354]\n",
            "Día 14 [Colonia A: 5.874134853806257 | Colonia B: 12.135524440334585]\n",
            "Día 15 [Colonia A: 6.050358899420445 | Colonia B: 12.317557306939603]\n",
            "Día 16 [Colonia A: 6.231869666403059 | Colonia B: 12.502320666543698]\n",
            "Día 17 [Colonia A: 6.41882575639515 | Colonia B: 12.689855476541853]\n",
            "Día 18 [Colonia A: 6.6113905290870045 | Colonia B: 12.88020330868998]\n",
            "Día 19 [Colonia A: 6.809732244959615 | Colonia B: 13.07340635832033]\n",
            "Día 20 [Colonia A: 7.014024212308403 | Colonia B: 13.269507453695136]\n",
            "Día 21 [Colonia A: 7.224444938677655 | Colonia B: 13.468550065500562]\n",
            "Día 22 [Colonia A: 7.441178286837984 | Colonia B: 13.67057831648307]\n",
            "Día 23 [Colonia A: 7.664413635443124 | Colonia B: 13.875636991230316]\n",
            "Día 24 [Colonia A: 7.894346044506417 | Colonia B: 14.08377154609877]\n",
            "Día 25 [Colonia A: 8.131176425841609 | Colonia B: 14.295028119290253]\n",
            "Día 26 [Colonia A: 8.375111718616857 | Colonia B: 14.509453541079607]\n",
            "Día 27 [Colonia A: 8.626365070175362 | Colonia B: 14.727095344195801]\n",
            "Día 28 [Colonia A: 8.885156022280624 | Colonia B: 14.948001774358739]\n",
            "Día 29 [Colonia A: 9.151710702949043 | Colonia B: 15.17222180097412]\n",
            "Día 30 [Colonia A: 9.426262024037515 | Colonia B: 15.399805127988731]\n",
            "Día 31 [Colonia A: 9.70904988475864 | Colonia B: 15.630802204908562]\n",
            "Día 32 [Colonia A: 10.000321381301399 | Colonia B: 15.86526423798219]\n",
            "Día 33 [Colonia A: 10.30033102274044 | Colonia B: 16.103243201551923]\n",
            "Día 34 [Colonia A: 10.609340953422654 | Colonia B: 16.344791849575202]\n",
            "Día 35 [Colonia A: 10.927621182025334 | Colonia B: 16.589963727318832]\n",
            "Día 36 [Colonia A: 11.255449817486094 | Colonia B: 16.838813183228613]\n",
            "Día 37 [Colonia A: 11.593113312010676 | Colonia B: 17.09139538097704]\n",
            "Día 38 [Colonia A: 11.940906711370996 | Colonia B: 17.347766311691696]\n",
            "Día 39 [Colonia A: 12.299133912712126 | Colonia B: 17.607982806367072]\n",
            "Día 40 [Colonia A: 12.66810793009349 | Colonia B: 17.87210254846258]\n",
            "Día 41 [Colonia A: 13.048151167996293 | Colonia B: 18.140184086689516]\n",
            "Día 42 [Colonia A: 13.439595703036183 | Colonia B: 18.412286847989858]\n",
            "Día 43 [Colonia A: 13.842783574127267 | Colonia B: 18.688471150709706]\n",
            "Día 44 [Colonia A: 14.258067081351085 | Colonia B: 18.968798217970352]\n",
            "Día 45 [Colonia A: 14.685809093791617 | Colonia B: 19.253330191239908]\n",
            "Día 46 [Colonia A: 15.126383366605365 | Colonia B: 19.542130144108505]\n",
            "Día 47 [Colonia A: 15.580174867603526 | Colonia B: 19.83526209627013]\n",
            "Día 48 [Colonia A: 16.047580113631632 | Colonia B: 20.132791027714184]\n",
            "Día 49 [Colonia A: 16.529007517040583 | Colonia B: 20.434782893129896]\n",
            "Día 50 [Colonia A: 17.0248777425518 | Colonia B: 20.741304636526845]\n",
            "Día 51 [Colonia A: 17.535624074828355 | Colonia B: 21.052424206074747]\n",
            "Día 52 [Colonia A: 18.061692797073206 | Colonia B: 21.368210569165868]\n",
            "Día 53 [Colonia A: 18.603543580985402 | Colonia B: 21.688733727703355]\n",
            "Día 54 [Colonia A: 19.161649888414964 | Colonia B: 22.014064733618905]\n",
            "Día 55 [Colonia A: 19.73649938506741 | Colonia B: 22.34427570462319]\n",
            "Día 56 [Colonia A: 20.328594366619434 | Colonia B: 22.679439840192536]\n",
            "Día 57 [Colonia A: 20.938452197618016 | Colonia B: 23.019631437795425]\n",
            "Día 58 [Colonia A: 21.566605763546555 | Colonia B: 23.364925909362356]\n",
            "Día 59 [Colonia A: 22.21360393645295 | Colonia B: 23.715399798002792]\n",
            "Día 60 [Colonia A: 22.88001205454654 | Colonia B: 24.071130794972834]\n",
            "Día 61 [Colonia A: 23.566412416182935 | Colonia B: 24.432197756897427]\n",
            "Día 62 [Colonia A: 24.273404788668422 | Colonia B: 24.79868072325089]\n",
            "Día 63 [Colonia A: 25.001606932328475 | Colonia B: 25.170660934099654]\n",
            "Día 64 [Colonia A: 25.75165514029833 | Colonia B: 25.54822084811115]\n",
            "La Colonia A superó a la Colonia B el día 64\n"
          ]
        }
      ]
    },
    {
      "cell_type": "markdown",
      "source": [
        "3 - Para procesar una cantidad de 15 datos de evaluaciones de usuarios de un servicio de la empresa, necesitamos verificar si las calificaciones son válidas. Por lo tanto, escribe un programa que recibirá calificaciones del 0 al 5 y verificará si son valores válidos. Si se ingresa una calificación superior a 5 o inferior a 0, se repetirá hasta que el usuario ingrese un valor válido."
      ],
      "metadata": {
        "id": "uG8ADSCVy9U_"
      }
    },
    {
      "cell_type": "code",
      "source": [
        "\n",
        "for i in range(0,15):\n",
        "  evaluacion = int(input(\"Ingrese evalución: \"))\n",
        "  while evaluacion >=0 and evaluacion <=5:\n",
        "      print(evaluacion)\n",
        "      break\n"
      ],
      "metadata": {
        "id": "a6iFdVH3zAhG",
        "outputId": "5b9863aa-964d-44bb-efe1-5c9a3cc264d1",
        "colab": {
          "base_uri": "https://localhost:8080/"
        }
      },
      "execution_count": 52,
      "outputs": [
        {
          "output_type": "stream",
          "name": "stdout",
          "text": [
            "Ingrese evalución: 1\n",
            "1\n",
            "Ingrese evalución: 2\n",
            "2\n",
            "Ingrese evalución: 3\n",
            "3\n",
            "Ingrese evalución: 4\n",
            "4\n",
            "Ingrese evalución: 5\n",
            "5\n",
            "Ingrese evalución: 6\n",
            "Ingrese evalución: 5\n",
            "5\n",
            "Ingrese evalución: 4\n",
            "4\n",
            "Ingrese evalución: 3\n",
            "3\n",
            "Ingrese evalución: 2\n",
            "2\n",
            "Ingrese evalución: 4\n",
            "4\n",
            "Ingrese evalución: 3\n",
            "3\n",
            "Ingrese evalución: 3\n",
            "3\n",
            "Ingrese evalución: 3\n",
            "3\n",
            "Ingrese evalución: 3\n",
            "3\n"
          ]
        }
      ]
    },
    {
      "cell_type": "code",
      "source": [
        "contador = 0\n",
        "\n",
        "while contador < 15:\n",
        "    evaluacion = int(input(f\"Ingrese evaluación #{contador + 1} (entre 0 y 5): \"))\n",
        "\n",
        "    if 0 <= evaluacion <= 5:\n",
        "        print(\"Evaluación válida registrada.\")\n",
        "        contador += 1\n",
        "    else:\n",
        "        print(\"Evaluación inválida. Debe ser un número entre 0 y 5. Intente nuevamente.\")\n",
        "\n",
        "\n",
        "\n",
        ""
      ],
      "metadata": {
        "id": "7tBBt3Fo-JXO",
        "outputId": "9f1303cc-86bb-482a-ae78-d369ad78e7cc",
        "colab": {
          "base_uri": "https://localhost:8080/"
        }
      },
      "execution_count": 64,
      "outputs": [
        {
          "output_type": "stream",
          "name": "stdout",
          "text": [
            "Ingrese evaluación #1 (entre 0 y 5): 1\n",
            "Evaluación válida registrada.\n",
            "Ingrese evaluación #2 (entre 0 y 5): 2\n",
            "Evaluación válida registrada.\n",
            "Ingrese evaluación #3 (entre 0 y 5): 3\n",
            "Evaluación válida registrada.\n",
            "Ingrese evaluación #4 (entre 0 y 5): 4\n",
            "Evaluación válida registrada.\n",
            "Ingrese evaluación #5 (entre 0 y 5): 5\n",
            "Evaluación válida registrada.\n",
            "Ingrese evaluación #6 (entre 0 y 5): 6\n",
            "Evaluación inválida. Debe ser un número entre 0 y 5. Intente nuevamente.\n",
            "Ingrese evaluación #6 (entre 0 y 5): 4\n",
            "Evaluación válida registrada.\n",
            "Ingrese evaluación #7 (entre 0 y 5): 3\n",
            "Evaluación válida registrada.\n",
            "Ingrese evaluación #8 (entre 0 y 5): 2\n",
            "Evaluación válida registrada.\n",
            "Ingrese evaluación #9 (entre 0 y 5): 1\n",
            "Evaluación válida registrada.\n",
            "Ingrese evaluación #10 (entre 0 y 5): 2\n",
            "Evaluación válida registrada.\n",
            "Ingrese evaluación #11 (entre 0 y 5): 3\n",
            "Evaluación válida registrada.\n",
            "Ingrese evaluación #12 (entre 0 y 5): 4\n",
            "Evaluación válida registrada.\n",
            "Ingrese evaluación #13 (entre 0 y 5): 5\n",
            "Evaluación válida registrada.\n",
            "Ingrese evaluación #14 (entre 0 y 5): 4\n",
            "Evaluación válida registrada.\n",
            "Ingrese evaluación #15 (entre 0 y 5): 3\n",
            "Evaluación válida registrada.\n"
          ]
        }
      ]
    },
    {
      "cell_type": "markdown",
      "source": [
        "4 - Desarrolla un programa que lea un conjunto indefinido de temperaturas en grados Celsius y calcule su promedio. La lectura debe detenerse al ingresar el valor -273°C."
      ],
      "metadata": {
        "id": "gJPfjR01zA8_"
      }
    },
    {
      "cell_type": "code",
      "source": [
        "suma_temp = 0\n",
        "contador = 0\n",
        "temperatura = 0\n",
        "while temperatura != -273:\n",
        "  temperatura = int(input(\"Ingrese temperatura: \"))\n",
        "  suma_temp = suma_temp + temperatura\n",
        "  contador +=1\n",
        "promedio_temp = suma_temp/contador\n",
        "#print(suma_temp, promedio_temp, contador)\n",
        "print(\"El promedio de las temperaturas ingresadas es: %.2f\"%(promedio_temp))"
      ],
      "metadata": {
        "id": "IxBirxhDzDX3",
        "outputId": "5a8902cf-d301-4881-df68-c56247eda2c6",
        "colab": {
          "base_uri": "https://localhost:8080/"
        }
      },
      "execution_count": 81,
      "outputs": [
        {
          "output_type": "stream",
          "name": "stdout",
          "text": [
            "Ingrese temperatura: 40\n",
            "Ingrese temperatura: 50\n",
            "Ingrese temperatura: 100\n",
            "Ingrese temperatura: -273\n",
            "El promedio de las temperaturas ingresadas es: -20.75\n"
          ]
        }
      ]
    },
    {
      "cell_type": "code",
      "source": [
        "suma_temp = 0\n",
        "contador = 0\n",
        "temperatura = int(input(\"Ingrese temperatura: \"))\n",
        "\n",
        "while temperatura != -273:\n",
        "    suma_temp += temperatura\n",
        "    contador += 1\n",
        "    temperatura = int(input(\"Ingrese temperatura: \"))\n",
        "\n",
        "if contador > 0:\n",
        "    promedio_temp = suma_temp / contador\n",
        "    print(\"El promedio de las temperaturas ingresadas es: %.2f°C\" % promedio_temp)\n",
        "else:\n",
        "    print(\"No se ingresaron temperaturas válidas.\")\n"
      ],
      "metadata": {
        "id": "kbGaqbw5HEZc",
        "outputId": "f08ef1e1-281e-4dfb-cb1b-6a969e8cfeb3",
        "colab": {
          "base_uri": "https://localhost:8080/"
        }
      },
      "execution_count": 82,
      "outputs": [
        {
          "output_type": "stream",
          "name": "stdout",
          "text": [
            "Ingrese temperatura: 30\n",
            "Ingrese temperatura: 20\n",
            "Ingrese temperatura: 10\n",
            "Ingrese temperatura: -273\n",
            "El promedio de las temperaturas ingresadas es: 20.00°C\n"
          ]
        }
      ]
    },
    {
      "cell_type": "code",
      "source": [
        "suma_temp = 0\n",
        "contador = 0\n",
        "\n",
        "while True:\n",
        "    temperatura = int(input(\"Ingrese temperatura (o -273 para salir): \"))\n",
        "\n",
        "    if temperatura == -273:\n",
        "        break\n",
        "\n",
        "    suma_temp += temperatura\n",
        "    contador += 1\n",
        "\n",
        "if contador > 0:\n",
        "    promedio_temp = suma_temp / contador\n",
        "    print(\"El promedio de las temperaturas ingresadas es: %.2f°C\" % promedio_temp)\n",
        "else:\n",
        "    print(\"No se ingresaron temperaturas válidas.\")\n"
      ],
      "metadata": {
        "id": "IuP5xcWjIAOE",
        "outputId": "688d1333-d2dd-425a-fb96-5da465ce5e08",
        "colab": {
          "base_uri": "https://localhost:8080/"
        }
      },
      "execution_count": 83,
      "outputs": [
        {
          "output_type": "stream",
          "name": "stdout",
          "text": [
            "Ingrese temperatura (o -273 para salir): 50\n",
            "Ingrese temperatura (o -273 para salir): 0\n",
            "Ingrese temperatura (o -273 para salir): 25\n",
            "Ingrese temperatura (o -273 para salir): -273\n",
            "El promedio de las temperaturas ingresadas es: 25.00°C\n"
          ]
        }
      ]
    },
    {
      "cell_type": "markdown",
      "source": [
        "5 - Escribe un programa que calcule el factorial de un número entero proporcionado por el usuario. Recuerda que el factorial de un número entero es el producto de ese número por todos sus antecesores hasta llegar al número 1. Por ejemplo, el factorial de 5 es 5 x 4 x 3 x 2 x 1 = 120."
      ],
      "metadata": {
        "id": "y-lVe5WqzDpv"
      }
    },
    {
      "cell_type": "code",
      "source": [
        "factorial = int(input(\"Ingrese el número del cual quiere obtener el factorial: \"))\n",
        "resultado = factorial\n",
        "antecesor = factorial-1\n",
        "\n",
        "for i in range(factorial,1,-1):\n",
        "  resultado *= antecesor\n",
        "  antecesor -=1\n",
        "  #print(i,resultado,antecesor)\n",
        "print(f\"El resultado del factorial de {factorial} es {resultado}\")\n"
      ],
      "metadata": {
        "id": "IuMD-mO8zGCP",
        "outputId": "064e258e-2fd9-41cc-c176-d8602a266fc9",
        "colab": {
          "base_uri": "https://localhost:8080/"
        }
      },
      "execution_count": 98,
      "outputs": [
        {
          "output_type": "stream",
          "name": "stdout",
          "text": [
            "Ingrese el número del cual quiere obtener el factorial: 5\n",
            "El resultado del factorial de 5 es 120\n"
          ]
        }
      ]
    },
    {
      "cell_type": "markdown",
      "source": [
        "6 - Escribe un programa que genere la tabla de multiplicar de un número entero del 1 al 10, según la elección del usuario. Como ejemplo, para el número 2, la tabla de multiplicar debe mostrarse en el siguiente formato:\n",
        "\n",
        "Tabla de multiplicar del 2:\n",
        "2 x 1 = 2\n",
        "2 x 2 = 4\n",
        "[...]\n",
        "2 x 10 = 20\n"
      ],
      "metadata": {
        "id": "z6WzKThozGMH"
      }
    },
    {
      "cell_type": "code",
      "source": [
        "contador = 1\n",
        "numero = int(input(\"Ingrese el número para obtener su tabla del 1 al 10: \"))\n",
        "for i in range(0,10):\n",
        "  resultado = numero * contador\n",
        "  print(f\"{numero} x {contador} = {resultado}\")\n",
        "  contador+=1"
      ],
      "metadata": {
        "id": "GUrbaH80zIiH",
        "outputId": "4ac549fc-acd9-4f62-9a62-92d66168fe8d",
        "colab": {
          "base_uri": "https://localhost:8080/"
        }
      },
      "execution_count": 108,
      "outputs": [
        {
          "output_type": "stream",
          "name": "stdout",
          "text": [
            "Ingrese el número para obtener su tabla del 1 al 10: 2\n",
            "2 x 1 = 2\n",
            "2 x 2 = 4\n",
            "2 x 3 = 6\n",
            "2 x 4 = 8\n",
            "2 x 5 = 10\n",
            "2 x 6 = 12\n",
            "2 x 7 = 14\n",
            "2 x 8 = 16\n",
            "2 x 9 = 18\n",
            "2 x 10 = 20\n"
          ]
        }
      ]
    },
    {
      "cell_type": "markdown",
      "source": [
        "7 - Los números primos tienen diversas aplicaciones en Ciencia de Datos, como en criptografía y seguridad. Un número primo es aquel que es divisible solo por sí mismo y por 1. Por lo tanto, crea un programa que solicite un número entero y determine si es un número primo o no."
      ],
      "metadata": {
        "id": "UiKgYMN0zIr4"
      }
    },
    {
      "cell_type": "code",
      "source": [
        "numero = int(input(\"Ingresa un número entero: \"))\n",
        "\n",
        "if numero < 2:\n",
        "    print(f\"El número {numero} no es primo.\")\n",
        "else:\n",
        "    divisible = 0\n",
        "    for i in range(1, numero + 1):\n",
        "        if numero % i == 0: #solo si el resto es 0, realiza lo siguiente\n",
        "            divisible += 1 #aumenta en 1 si es que el resto de los valores son 0\n",
        "\n",
        "    if divisible == 2: #el numero primo solo es divisible por 1 y por si mismo == 2\n",
        "        print(f\"El número {numero} es primo.\")\n",
        "    else:\n",
        "        print(f\"El número {numero} no es primo.\")\n"
      ],
      "metadata": {
        "id": "heu3qs_XzKiX",
        "outputId": "abeb4b37-9758-4ae8-804f-a1927896fe23",
        "colab": {
          "base_uri": "https://localhost:8080/"
        }
      },
      "execution_count": 114,
      "outputs": [
        {
          "output_type": "stream",
          "name": "stdout",
          "text": [
            "Ingresa un número entero: 3\n",
            "El número 3 es primo.\n"
          ]
        }
      ]
    },
    {
      "cell_type": "markdown",
      "source": [
        "8 - Vamos a comprender la distribución de edades de los pensionistas de una empresa de seguros. Escribe un programa que lea las edades de una cantidad no informada de clientes y muestre la distribución en los intervalos [0-25], [26-50], [51-75] y [76-100]. La entrada de datos se detendrá al ingresar un número negativo."
      ],
      "metadata": {
        "id": "cZAZNJnQzKo8"
      }
    },
    {
      "cell_type": "code",
      "source": [
        "intervalo_1 = int(0)\n",
        "intervalo_2 = int(0)\n",
        "intervalo_3 = int(0)\n",
        "intervalo_4 = int(0)\n",
        "edad = int(input(\"Ingresa edad (de 1 -100 años): \"))\n",
        "while edad >=0:\n",
        "  if edad >=0 and edad <= 25:\n",
        "    intervalo_1 += 1\n",
        "  elif edad >=26 and edad <= 50:\n",
        "    intervalo_2 += 1\n",
        "  elif edad >=51 and edad <= 75:\n",
        "    intervalo_3 += 1\n",
        "  elif edad >= 76 and edad <= 100:\n",
        "    intervalo_4 += 1\n",
        "  else:\n",
        "    print(\"Edad no coincide con los intervalos\")\n",
        "\n",
        "  edad = int(input(\"Ingresa edad (de 1 -100 años): \"))\n",
        "print(\"La cantidad de personas ingresadas según intervalo, son las siguientes:\\nEntre [0 - 25]: {} personas.\\nEntre [26 - 50]: {} personas.\\nEntre [51 - 75]: {} personas.\\nEntre [76 - 100]: {} personas.\\n\".format(intervalo_1, intervalo_2,intervalo_3,intervalo_4))\n"
      ],
      "metadata": {
        "id": "5fHcNwSCzMfg",
        "outputId": "fa2c66e9-8362-4ba2-f736-41942201b523",
        "colab": {
          "base_uri": "https://localhost:8080/"
        }
      },
      "execution_count": 142,
      "outputs": [
        {
          "output_type": "stream",
          "name": "stdout",
          "text": [
            "Ingresa edad (de 1 -100 años): 4\n",
            "Ingresa edad (de 1 -100 años): 14\n",
            "Ingresa edad (de 1 -100 años): 50\n",
            "Ingresa edad (de 1 -100 años): 50\n",
            "Ingresa edad (de 1 -100 años): 75\n",
            "Ingresa edad (de 1 -100 años): 75\n",
            "Ingresa edad (de 1 -100 años): 75\n",
            "Ingresa edad (de 1 -100 años): 75\n",
            "Ingresa edad (de 1 -100 años): 100\n",
            "Ingresa edad (de 1 -100 años): -1\n",
            "La cantidad de personas ingresadas según intervalo, son las siguientes:\n",
            "Entre [0 - 25]: 2 personas.\n",
            "Entre [26 - 50]: 2 personas.\n",
            "Entre [51 - 75]: 4 personas.\n",
            "Entre [76 - 100]: 1 personas.\n",
            "\n"
          ]
        }
      ]
    },
    {
      "cell_type": "code",
      "source": [
        "# Inicializamos contadores\n",
        "intervalo_1 = 0\n",
        "intervalo_2 = 0\n",
        "intervalo_3 = 0\n",
        "intervalo_4 = 0\n",
        "\n",
        "# Primer ingreso de edad\n",
        "edad = int(input(\"Ingresa edad (de 1 a 100 años, número negativo para salir): \"))\n",
        "\n",
        "# Bucle mientras la edad sea válida\n",
        "while edad >= 0:\n",
        "    if edad <= 25:\n",
        "        intervalo_1 += 1\n",
        "    elif edad <= 50:\n",
        "        intervalo_2 += 1\n",
        "    elif edad <= 75:\n",
        "        intervalo_3 += 1\n",
        "    elif edad <= 100:\n",
        "        intervalo_4 += 1\n",
        "    else:\n",
        "        print(\"⚠️ Edad fuera de los intervalos válidos. Intenta nuevamente.\")\n",
        "\n",
        "    # Este input SIEMPRE se ejecuta al final del ciclo\n",
        "    edad = int(input(\"Ingresa edad (de 1 a 100 años, número negativo para salir): \"))\n",
        "\n",
        "# Mostrar los resultados al finalizar\n",
        "print(\"\\n📊 Distribución de edades ingresadas:\")\n",
        "print(f\"Entre [0 - 25]: {intervalo_1} personas.\")\n",
        "print(f\"Entre [26 - 50]: {intervalo_2} personas.\")\n",
        "print(f\"Entre [51 - 75]: {intervalo_3} personas.\")\n",
        "print(f\"Entre [76 - 100]: {intervalo_4} personas.\")\n"
      ],
      "metadata": {
        "id": "qO01fCvfl_oO",
        "outputId": "592e6221-e421-4a64-e779-0710f61357ab",
        "colab": {
          "base_uri": "https://localhost:8080/"
        }
      },
      "execution_count": 138,
      "outputs": [
        {
          "output_type": "stream",
          "name": "stdout",
          "text": [
            "Ingresa edad (de 1 a 100 años, número negativo para salir): 4\n",
            "Ingresa edad (de 1 a 100 años, número negativo para salir): 2\n",
            "Ingresa edad (de 1 a 100 años, número negativo para salir): 100\n",
            "Ingresa edad (de 1 a 100 años, número negativo para salir): 100\n",
            "Ingresa edad (de 1 a 100 años, número negativo para salir): -2\n",
            "\n",
            "📊 Distribución de edades ingresadas:\n",
            "Entre [0 - 25]: 2 personas.\n",
            "Entre [26 - 50]: 0 personas.\n",
            "Entre [51 - 75]: 0 personas.\n",
            "Entre [76 - 100]: 2 personas.\n"
          ]
        }
      ]
    },
    {
      "cell_type": "markdown",
      "source": [
        "9 - En una elección para la gerencia de una empresa con 20 empleados, hay cuatro candidatos. Escribe un programa que calcule al ganador de la elección. La votación se realizó de la siguiente manera:\n",
        "\n",
        "Cada empleado votó por uno de los cuatro candidatos (representados por los números 1, 2, 3 y 4).\n",
        "\n",
        "También se contaron los votos nulos (representados por el número 5) y los votos en blanco (representados por el número 6).\n",
        "\n",
        "Al final de la votación, el programa debe mostrar el número total de votos para cada candidato, los votos nulos y los votos en blanco. Además, debe calcular y mostrar el porcentaje de votos nulos con respecto al total de votos y el porcentaje de votos en blanco con respecto al total de votos."
      ],
      "metadata": {
        "id": "YIXfZkaSzMmQ"
      }
    },
    {
      "cell_type": "code",
      "source": [
        "candidato_1 = int(0)\n",
        "candidato_2 = int(0)\n",
        "candidato_3 = int(0)\n",
        "candidato_4 = int(0)\n",
        "nulo = int(0)\n",
        "blanco = int(0)\n",
        "contador = int(1)\n",
        "cantidad_total = 20\n",
        "\n",
        "while contador <= cantidad_total:\n",
        "    voto = int(input(\"Ingrese su voto del [1 - 6]: \"))\n",
        "    if voto >= 1 and voto <= 6: #valida que sea un número entre el 1 al 6\n",
        "\n",
        "      if voto == 1:\n",
        "        candidato_1 +=1\n",
        "      elif voto == 2:\n",
        "        candidato_2 +=1\n",
        "      elif voto == 3:\n",
        "        candidato_3 += 1\n",
        "      elif voto == 4:\n",
        "        candidato_4 += 1\n",
        "      elif voto == 5:\n",
        "        nulo += 1\n",
        "      elif voto == 6:\n",
        "        blanco += 1\n",
        "      else:\n",
        "        print(\"No corresponde a un número válido\")\n",
        "      contador +=1\n",
        "    else:\n",
        "      print(\"No corresponde a un número válido, vuelva a intentarlo\")\n",
        "\n",
        "porc_candidato_1 = (100*candidato_1)/cantidad_total\n",
        "porc_candidato_2 = (100*candidato_2)/cantidad_total\n",
        "porc_candidato_3 = (100*candidato_3)/cantidad_total\n",
        "porc_candidato_4 = (100*candidato_4)/cantidad_total\n",
        "porc_nulo = (100*nulo)/cantidad_total\n",
        "porc_blanco = (100*blanco)/cantidad_total\n",
        "\n",
        "\n",
        "print(f\"Candidato 1: {candidato_1} votos, equivalente al {porc_candidato_1}% de los votos emitidos.\")\n",
        "print(f\"Candidato 2: {candidato_2} votos, equivalente al {porc_candidato_2}% de los votos emitidos.\")\n",
        "print(f\"Candidato 3: {candidato_3} votos, equivalente al {porc_candidato_3}% de los votos emitidos.\")\n",
        "print(f\"Candidato 4: {candidato_4} votos, equivalente al {porc_candidato_4}% de los votos emitidos.\")\n",
        "print(f\"Votos nulos: {nulo} votos, equivalente al {porc_nulo}% de los votos emitidos.\")\n",
        "print(f\"Votos blancos: {blanco} votos, equivalente al {porc_blanco}% de los votos emitidos.\")\n",
        "\n"
      ],
      "metadata": {
        "id": "uQCzuCLszR3X",
        "outputId": "f9d23be8-1875-4980-e511-eb87cfcd0055",
        "colab": {
          "base_uri": "https://localhost:8080/"
        }
      },
      "execution_count": 179,
      "outputs": [
        {
          "output_type": "stream",
          "name": "stdout",
          "text": [
            "Ingrese su voto del [1 - 6]: 2\n",
            "Ingrese su voto del [1 - 6]: 4\n",
            "Ingrese su voto del [1 - 6]: 1\n",
            "Ingrese su voto del [1 - 6]: 5\n",
            "Ingrese su voto del [1 - 6]: 6\n",
            "Ingrese su voto del [1 - 6]: 7\n",
            "No corresponde a un número válido, vuelva a intentarlo\n",
            "Ingrese su voto del [1 - 6]: 5\n",
            "Ingrese su voto del [1 - 6]: 6\n",
            "Ingrese su voto del [1 - 6]: 3\n",
            "Ingrese su voto del [1 - 6]: 1\n",
            "Ingrese su voto del [1 - 6]: 10\n",
            "No corresponde a un número válido, vuelva a intentarlo\n",
            "Ingrese su voto del [1 - 6]: 1\n",
            "Ingrese su voto del [1 - 6]: 3\n",
            "Ingrese su voto del [1 - 6]: 4\n",
            "Ingrese su voto del [1 - 6]: 1\n",
            "Ingrese su voto del [1 - 6]: 3\n",
            "Ingrese su voto del [1 - 6]: 2\n",
            "Ingrese su voto del [1 - 6]: 5\n",
            "Ingrese su voto del [1 - 6]: 1\n",
            "Ingrese su voto del [1 - 6]: 3\n",
            "Ingrese su voto del [1 - 6]: 4\n",
            "Ingrese su voto del [1 - 6]: 5\n",
            "Candidato 1: 5 votos, equivalente al 25.0% de los votos emitidos\n",
            "Candidato 2: 2 votos, equivalente al 10.0% de los votos emitidos\n",
            "Candidato 3: 4 votos, equivalente al 20.0% de los votos emitidos\n",
            "Candidato 4: 3 votos, equivalente al 15.0% de los votos emitidos\n",
            "Votos nulos: 4 votos, equivalente al 20.0% de los votos emitidos\n",
            "Votos blancos: 2 votos, equivalente al 10.0% de los votos emitidos\n"
          ]
        }
      ]
    },
    {
      "cell_type": "markdown",
      "source": [
        "# Estructuras de datos"
      ],
      "metadata": {
        "id": "8noP8OJ0Vhux"
      }
    },
    {
      "cell_type": "markdown",
      "source": [
        "Un conjunto de elementos es una colección de items, que son almacenados juntos de manera organizada. Algunos ejemplos de conjuntos de elementos en Python son las listas, los strings y los diccionarios."
      ],
      "metadata": {
        "id": "xpEUkefTu8fY"
      }
    },
    {
      "cell_type": "markdown",
      "source": [
        "## Listas"
      ],
      "metadata": {
        "id": "THSg4KYLwxIb"
      }
    },
    {
      "cell_type": "markdown",
      "source": [
        "Las listas pueden almacenar una colección de items en orden. Ellas son delimitadas por corchetes `[]` y sus elementos son separados por comas.\n",
        "\n",
        "Estas pueden almacenar cualquier tipo de items, incluyendo números, strings, objetos, otras listas, entre otros. También nos permiten almacenar items de tipos de datos diferentes juntos en una única lista."
      ],
      "metadata": {
        "id": "dzpsiqrOyJcK"
      }
    },
    {
      "cell_type": "code",
      "source": [
        "lista = ['Penélope Camacho',9.5,9.0,9.7,True]\n",
        "lista"
      ],
      "metadata": {
        "id": "DO3TBj7nAYeG",
        "colab": {
          "base_uri": "https://localhost:8080/"
        },
        "outputId": "fbee2eb5-265e-4b5b-badf-a0dd9331074b"
      },
      "execution_count": null,
      "outputs": [
        {
          "output_type": "execute_result",
          "data": {
            "text/plain": [
              "['Penélope Camacho', 9.5, 9.0, 9.7, True]"
            ]
          },
          "metadata": {},
          "execution_count": 62
        }
      ]
    },
    {
      "cell_type": "code",
      "source": [],
      "metadata": {
        "id": "DO2ubP9N9D_2"
      },
      "execution_count": null,
      "outputs": []
    },
    {
      "cell_type": "markdown",
      "source": [
        "Las listas son organizadas en Python porque **cada elemento de la lista tiene un índice que indica su posición al interior de la lista**. Los índices comienzan en 0 van hasta el tamaño de la lista menos 1."
      ],
      "metadata": {
        "id": "qUz3sJNl6LgK"
      }
    },
    {
      "cell_type": "markdown",
      "source": [
        "Tenemos entonces 5 elementos con índices que varían de 0 a 4, ordenadamente:\n",
        "\n",
        "```\n",
        "#             [0]           [1]   [2]   [3]    [4]\n",
        "lista = ['Penélope Camacho', 9.5 , 9.0 , 9.7 , True]\n",
        "```\n",
        "\n",
        "En Python tenemos también los índices **negativos** que se inician en el último elemento con el valor de `-1` y avanzan en el universo de los negativos hasta llegar al 1° elemento:\n",
        "\n",
        "```\n",
        "#             [-5]         [-4]  [-3]  [-2]   [-1]\n",
        "lista = ['Penélope Camacho', 9.5 , 9.0 , 9.7 , True]\n",
        "```\n",
        "\n",
        "Logramos seleccionar separadamente cada elemento a través de sus respectivos índices. Colocando el nombre de la lista y en seguida el índice que será seleccionado."
      ],
      "metadata": {
        "id": "rLf-Qg526hFD"
      }
    },
    {
      "cell_type": "code",
      "source": [],
      "metadata": {
        "id": "4hco1Zqy88Kw"
      },
      "execution_count": null,
      "outputs": []
    },
    {
      "cell_type": "code",
      "source": [],
      "metadata": {
        "id": "M8lH0I2288Ph"
      },
      "execution_count": null,
      "outputs": []
    },
    {
      "cell_type": "markdown",
      "source": [
        "Una forma más dinámica de trabajar item a item en una lista es utilizando un lazo `for` para leer un elemento a la vez."
      ],
      "metadata": {
        "id": "6TaE1ijmBTCd"
      }
    },
    {
      "cell_type": "code",
      "source": [],
      "metadata": {
        "id": "rBx4Yu1786Sy"
      },
      "execution_count": null,
      "outputs": []
    },
    {
      "cell_type": "markdown",
      "source": [
        "**Situación**: La nota `9.0` de Penélope necesita ser ajustada pues ganó 1 punto en su última nota por participación en clase. Entonces es necesario realizar un cambio en el índice `2` de `9.0` a `10.0`."
      ],
      "metadata": {
        "id": "Dh1_HnIVvucY"
      }
    },
    {
      "cell_type": "code",
      "source": [],
      "metadata": {
        "id": "bVPoZg668z3T"
      },
      "execution_count": null,
      "outputs": []
    },
    {
      "cell_type": "code",
      "source": [],
      "metadata": {
        "id": "Jo_PBQ0g8z7D"
      },
      "execution_count": null,
      "outputs": []
    },
    {
      "cell_type": "markdown",
      "source": [
        "También podemos calcular el promedio del estudiante a partir de los datos que tenemos."
      ],
      "metadata": {
        "id": "53XduzXkycAf"
      }
    },
    {
      "cell_type": "code",
      "source": [],
      "metadata": {
        "id": "SIH61Rrb8yv4"
      },
      "execution_count": null,
      "outputs": []
    },
    {
      "cell_type": "markdown",
      "source": [
        "## Manipulación de listas\n",
        "\n",
        "Las listas son muy útiles en Python porque nos permiten almacenar y acceder a una colección de items de manera organizada y rápida. Estas también ofrecen muchos métodos útiles para manipular los itens almacenados, como adicionar, remover, clasificar y buscar elementos."
      ],
      "metadata": {
        "id": "d-iYr10-y4qw"
      }
    },
    {
      "cell_type": "markdown",
      "source": [
        "#### Cantidad de elementos\n",
        "\n",
        "Usamos la función [`len()`](https://docs.python.org/3/library/functions.html#len) para descubrir la cantidad de elementos de un conjunto."
      ],
      "metadata": {
        "id": "ZLqx9A97XVB_"
      }
    },
    {
      "cell_type": "code",
      "source": [],
      "metadata": {
        "id": "6q1Tmm7P8wQf"
      },
      "execution_count": null,
      "outputs": []
    },
    {
      "cell_type": "markdown",
      "source": [
        "#### Partición\n",
        "\n",
        "La partición de listas por indexación en Python es una técnica muy útil para seleccionar un subconjunto de elementos de una lista. Esta se realiza usando la sintaxis `lista[inicio:fin]`, donde `inicio` es el índice del primer elemento que será incluído en la partición `fin` es el índice del primer elemento que será excluído de la partición."
      ],
      "metadata": {
        "id": "Z5tpstlHJss3"
      }
    },
    {
      "cell_type": "code",
      "source": [],
      "metadata": {
        "id": "NctvJTTU8uV9"
      },
      "execution_count": null,
      "outputs": []
    },
    {
      "cell_type": "code",
      "source": [],
      "metadata": {
        "id": "bQZUwldj8uY2"
      },
      "execution_count": null,
      "outputs": []
    },
    {
      "cell_type": "markdown",
      "source": [
        "#### [`append()`](https://docs.python.org/3/tutorial/datastructures.html#:~:text=of%20list%20objects%3A-,list.append(x),-Add%20an%20item)\n",
        "\n",
        "Añade un elemento al final de la lista."
      ],
      "metadata": {
        "id": "O0RRyabkRzZC"
      }
    },
    {
      "cell_type": "code",
      "source": [],
      "metadata": {
        "id": "_Q0oODwa8spC"
      },
      "execution_count": null,
      "outputs": []
    },
    {
      "cell_type": "code",
      "source": [],
      "metadata": {
        "id": "RM894r2M8sse"
      },
      "execution_count": null,
      "outputs": []
    },
    {
      "cell_type": "markdown",
      "source": [
        "#### [`extend()`](https://docs.python.org/3/tutorial/datastructures.html#:~:text=list.extend(iterable))\n",
        "\n",
        "Añade varios elementos al final de la lista.\n",
        "\n",
        "Añadiremos las notas `[10.0,8.0,9.0]` En la lista de Penélope Camacho."
      ],
      "metadata": {
        "id": "uQV91XMsUOJD"
      }
    },
    {
      "cell_type": "code",
      "source": [],
      "metadata": {
        "id": "6Zk2MpMw8rQc"
      },
      "execution_count": null,
      "outputs": []
    },
    {
      "cell_type": "code",
      "source": [],
      "metadata": {
        "id": "NnoKkoWb8rTQ"
      },
      "execution_count": null,
      "outputs": []
    },
    {
      "cell_type": "markdown",
      "source": [
        "*A continuación te mostraremos lo que no puede realizarse con* `append`."
      ],
      "metadata": {
        "id": "IVJvkTwNUk6M"
      }
    },
    {
      "cell_type": "code",
      "source": [],
      "metadata": {
        "id": "u3Eub2ZL8pp3"
      },
      "execution_count": null,
      "outputs": []
    },
    {
      "cell_type": "code",
      "source": [],
      "metadata": {
        "id": "tsKK5Ne58pvN"
      },
      "execution_count": null,
      "outputs": []
    },
    {
      "cell_type": "markdown",
      "source": [
        "#### [`remove()`](https://docs.python.org/3/tutorial/datastructures.html#:~:text=append(x).-,list.remove(x),-Remove%20the%20first)\n",
        "\n",
        "Remueve un elemento específico de la lista."
      ],
      "metadata": {
        "id": "dPGM5gpyUX1z"
      }
    },
    {
      "cell_type": "code",
      "source": [],
      "metadata": {
        "id": "mmboODPc8nd5"
      },
      "execution_count": null,
      "outputs": []
    },
    {
      "cell_type": "code",
      "source": [],
      "metadata": {
        "id": "T_w6vVgV8nh_"
      },
      "execution_count": null,
      "outputs": []
    },
    {
      "cell_type": "markdown",
      "source": [
        "## Diccionario"
      ],
      "metadata": {
        "id": "Rc22Vc08YDZ2"
      }
    },
    {
      "cell_type": "markdown",
      "source": [
        "Los diccionarios son un tipo de estructura de datos que almacenan pares de *llave-valor*. Estos son delimitados por llaves `{}` y los pares *llave-valor* son separados por comas.\n",
        "\n",
        "```\n",
        "diccionario = {llave: valor}\n",
        "```\n",
        "\n",
        "La **llave** es un elemento único que identifica a un valor en el diccionario, mientras que el **valor** es el item que será almacenado para la llave. Las llaves y sus respectivos valores se pueden emplear para **cualquier tipo de dato**.\n",
        "\n",
        "Los diccionarios son útiles para almacenar y acceder a los datos de manera organizada y rápida. Se trata de un tipo de conjunto de elementos en Python, pues almacenan una colección de items."
      ],
      "metadata": {
        "id": "PJ-cCKPjeWxL"
      }
    },
    {
      "cell_type": "code",
      "source": [],
      "metadata": {
        "id": "NDHhzooE8ld5"
      },
      "execution_count": null,
      "outputs": []
    },
    {
      "cell_type": "code",
      "source": [],
      "metadata": {
        "id": "AVOzqzy-8lhh"
      },
      "execution_count": null,
      "outputs": []
    },
    {
      "cell_type": "markdown",
      "source": [
        "---\n",
        "**Situación:**\n",
        "\n",
        "Vamos a crear un conjunto de datos con las informaciones de matrícula de un estudiante. Los datos son los siguientes:\n",
        "\n",
        "- matrícula: 2000168933\n",
        "- día de registro: 25\n",
        "- mes de registro: 10\n",
        "- grupo: 2E"
      ],
      "metadata": {
        "id": "_JbQ3KMKfkXU"
      }
    },
    {
      "cell_type": "code",
      "source": [],
      "metadata": {
        "id": "0lfOu_c38jED"
      },
      "execution_count": null,
      "outputs": []
    },
    {
      "cell_type": "code",
      "source": [],
      "metadata": {
        "id": "XIuqpTTy8jHV"
      },
      "execution_count": null,
      "outputs": []
    },
    {
      "cell_type": "markdown",
      "source": [
        "Es posible sustituir los valores dentro de una llave. Por ejemplo, recibimos la información de que el grupo del estudiante que registramos cambio a `'2G'` y ahora necesitamos cambiar el valor de la llave `'grupo'`."
      ],
      "metadata": {
        "id": "8ex5pt2ykDd2"
      }
    },
    {
      "cell_type": "code",
      "source": [],
      "metadata": {
        "id": "kQGlp36b8fyP"
      },
      "execution_count": null,
      "outputs": []
    },
    {
      "cell_type": "code",
      "source": [],
      "metadata": {
        "id": "DnfH_qHi8f17"
      },
      "execution_count": null,
      "outputs": []
    },
    {
      "cell_type": "markdown",
      "source": [
        "También podemos añadir otros datos al diccionario. Vamos a añadir la información sobre la modalidad de estudio, nuestro estudiante estudiará inicialemente en la modalidad EAD.\n",
        "\n",
        "Definiremos una llave llamada `'modalidad'` con el valor `'EAD'`."
      ],
      "metadata": {
        "id": "wB0qRb56mQvv"
      }
    },
    {
      "cell_type": "code",
      "source": [],
      "metadata": {
        "id": "EeLYdlIm8d8a"
      },
      "execution_count": null,
      "outputs": []
    },
    {
      "cell_type": "code",
      "source": [],
      "metadata": {
        "id": "olDIavsm8d_o"
      },
      "execution_count": null,
      "outputs": []
    },
    {
      "cell_type": "markdown",
      "source": [
        "## Profundizando en diccionarios"
      ],
      "metadata": {
        "id": "LJ3o_inroxg_"
      }
    },
    {
      "cell_type": "markdown",
      "source": [
        "#### [`pop()`](https://python-reference.readthedocs.io/en/latest/docs/dict/pop.html)\n",
        "Remueve un item de un diccionario y lo representa en la salida."
      ],
      "metadata": {
        "id": "2N3GLlkSpBiu"
      }
    },
    {
      "cell_type": "code",
      "source": [],
      "metadata": {
        "id": "ZsSCZx6G8b-T"
      },
      "execution_count": null,
      "outputs": []
    },
    {
      "cell_type": "code",
      "source": [],
      "metadata": {
        "id": "7lQ8_jpi8cBR"
      },
      "execution_count": null,
      "outputs": []
    },
    {
      "cell_type": "markdown",
      "source": [
        "#### [`items()`](https://python-reference.readthedocs.io/en/latest/docs/dict/items.html)\n",
        "Retorna una lista de pares `llave-valor` del diccionario."
      ],
      "metadata": {
        "id": "sYZGvJJYrW_y"
      }
    },
    {
      "cell_type": "code",
      "source": [],
      "metadata": {
        "id": "ncdycLV08an7"
      },
      "execution_count": null,
      "outputs": []
    },
    {
      "cell_type": "markdown",
      "source": [
        "#### [`keys()`](https://python-reference.readthedocs.io/en/latest/docs/dict/keys.html)\n",
        "Retorna una lista de las llaves del diccionario."
      ],
      "metadata": {
        "id": "Lb0utNFGrZBY"
      }
    },
    {
      "cell_type": "code",
      "source": [],
      "metadata": {
        "id": "eZo0biaM8ZVs"
      },
      "execution_count": null,
      "outputs": []
    },
    {
      "cell_type": "markdown",
      "source": [
        "#### [`values()`](https://python-reference.readthedocs.io/en/latest/docs/dict/values.html)\n",
        "Retorna una lista de los valores del diccionario."
      ],
      "metadata": {
        "id": "qKyu3bf9rbtX"
      }
    },
    {
      "cell_type": "code",
      "source": [],
      "metadata": {
        "id": "-NxRT9C18Yvo"
      },
      "execution_count": null,
      "outputs": []
    },
    {
      "cell_type": "markdown",
      "source": [
        "### Lectura de valores con el lazo `for`"
      ],
      "metadata": {
        "id": "e3XVjR8Frp75"
      }
    },
    {
      "cell_type": "code",
      "source": [],
      "metadata": {
        "id": "NYcjU-Ip8Xan"
      },
      "execution_count": null,
      "outputs": []
    },
    {
      "cell_type": "code",
      "source": [],
      "metadata": {
        "id": "aAnpP1Wv8XfJ"
      },
      "execution_count": null,
      "outputs": []
    }
  ]
}